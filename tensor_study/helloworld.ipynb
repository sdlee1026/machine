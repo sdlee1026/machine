{
 "cells": [
  {
   "cell_type": "code",
   "execution_count": null,
   "metadata": {},
   "outputs": [],
   "source": [
    "import tensorflow as tf\n",
    "\n",
    "hello = tf.constant('Hello, TensorFlow')\n",
    "sess = tf.Session()\n",
    "print(sess.run(hello))\n",
    "\n",
    "a, b = tf.constant(10), tf.constant(22)\n",
    "print(sess.run(a+b))\n",
    "\n",
    "sess.close()"
   ]
  },
  {
   "cell_type": "code",
   "execution_count": 5,
   "metadata": {},
   "outputs": [],
   "source": [
    "# Keras import test MNIST\n",
    "'''Trains a simple deep NN on the MNIST dataset.\n",
    "Gets to 98.40% test accuracy after 20 epochs\n",
    "(there is *a lot* of margin for parameter tuning).\n",
    "2 seconds per epoch on a K520 GPU.\n",
    "'''\n",
    "\n",
    "from __future__ import print_function\n",
    "\n",
    "import keras\n",
    "from keras.datasets import mnist\n",
    "from keras.models import Sequential\n",
    "from keras.layers import Dense, Dropout\n",
    "from keras.optimizers import RMSprop\n",
    "\n"
   ]
  },
  {
   "cell_type": "code",
   "execution_count": 6,
   "metadata": {},
   "outputs": [],
   "source": [
    "batch_size = 128\n",
    "num_classes = 10\n",
    "epochs = 20\n"
   ]
  },
  {
   "cell_type": "code",
   "execution_count": 14,
   "metadata": {},
   "outputs": [
    {
     "name": "stdout",
     "output_type": "stream",
     "text": [
      "Downloading data from https://s3.amazonaws.com/img-datasets/mnist.npz\n",
      "11493376/11490434 [==============================] - 2s 0us/step\n"
     ]
    }
   ],
   "source": [
    "(x_train, y_train), (x_test, y_test) = keras.datasets.mnist.load_data()\n",
    "# Certificates issue -> /Applications/Python\\ 3.7/Install\\ Certificates.command"
   ]
  },
  {
   "cell_type": "code",
   "execution_count": 15,
   "metadata": {},
   "outputs": [
    {
     "name": "stdout",
     "output_type": "stream",
     "text": [
      "60000 train samples\n",
      "10000 test samples\n"
     ]
    }
   ],
   "source": [
    "\n",
    "# the data, split between train and test sets\n",
    "(x_train, y_train), (x_test, y_test) = mnist.load_data()\n",
    "\n",
    "x_train = x_train.reshape(60000, 784)\n",
    "x_test = x_test.reshape(10000, 784)\n",
    "x_train = x_train.astype('float32')\n",
    "x_test = x_test.astype('float32')\n",
    "x_train /= 255\n",
    "x_test /= 255\n",
    "print(x_train.shape[0], 'train samples')\n",
    "print(x_test.shape[0], 'test samples')\n"
   ]
  },
  {
   "cell_type": "code",
   "execution_count": 16,
   "metadata": {},
   "outputs": [
    {
     "name": "stdout",
     "output_type": "stream",
     "text": [
      "WARNING:tensorflow:From /Library/Frameworks/Python.framework/Versions/3.7/lib/python3.7/site-packages/tensorflow/python/ops/resource_variable_ops.py:435: colocate_with (from tensorflow.python.framework.ops) is deprecated and will be removed in a future version.\n",
      "Instructions for updating:\n",
      "Colocations handled automatically by placer.\n",
      "Model: \"sequential_1\"\n",
      "_________________________________________________________________\n",
      "Layer (type)                 Output Shape              Param #   \n",
      "=================================================================\n",
      "dense_1 (Dense)              (None, 512)               401920    \n",
      "_________________________________________________________________\n",
      "dropout_1 (Dropout)          (None, 512)               0         \n",
      "_________________________________________________________________\n",
      "dense_2 (Dense)              (None, 512)               262656    \n",
      "_________________________________________________________________\n",
      "dropout_2 (Dropout)          (None, 512)               0         \n",
      "_________________________________________________________________\n",
      "dense_3 (Dense)              (None, 10)                5130      \n",
      "=================================================================\n",
      "Total params: 669,706\n",
      "Trainable params: 669,706\n",
      "Non-trainable params: 0\n",
      "_________________________________________________________________\n",
      "WARNING:tensorflow:From /Library/Frameworks/Python.framework/Versions/3.7/lib/python3.7/site-packages/tensorflow/python/ops/math_ops.py:3066: to_int32 (from tensorflow.python.ops.math_ops) is deprecated and will be removed in a future version.\n",
      "Instructions for updating:\n",
      "Use tf.cast instead.\n",
      "Train on 60000 samples, validate on 10000 samples\n",
      "Epoch 1/20\n",
      "60000/60000 [==============================] - 3s 49us/step - loss: 0.2435 - accuracy: 0.9256 - val_loss: 0.1086 - val_accuracy: 0.9663\n",
      "Epoch 2/20\n",
      "60000/60000 [==============================] - 3s 44us/step - loss: 0.1015 - accuracy: 0.9694 - val_loss: 0.0797 - val_accuracy: 0.9742\n",
      "Epoch 3/20\n",
      "60000/60000 [==============================] - 3s 52us/step - loss: 0.0743 - accuracy: 0.9771 - val_loss: 0.0841 - val_accuracy: 0.9750\n",
      "Epoch 4/20\n",
      "60000/60000 [==============================] - 3s 54us/step - loss: 0.0595 - accuracy: 0.9818 - val_loss: 0.0770 - val_accuracy: 0.9798\n",
      "Epoch 5/20\n",
      "60000/60000 [==============================] - 3s 51us/step - loss: 0.0518 - accuracy: 0.9845 - val_loss: 0.0857 - val_accuracy: 0.9778\n",
      "Epoch 6/20\n",
      "60000/60000 [==============================] - 3s 55us/step - loss: 0.0433 - accuracy: 0.9865 - val_loss: 0.0736 - val_accuracy: 0.9803\n",
      "Epoch 7/20\n",
      "60000/60000 [==============================] - 3s 54us/step - loss: 0.0359 - accuracy: 0.9891 - val_loss: 0.0786 - val_accuracy: 0.9821\n",
      "Epoch 8/20\n",
      "60000/60000 [==============================] - 3s 51us/step - loss: 0.0344 - accuracy: 0.9899 - val_loss: 0.0875 - val_accuracy: 0.9811\n",
      "Epoch 9/20\n",
      "60000/60000 [==============================] - 3s 53us/step - loss: 0.0295 - accuracy: 0.9911 - val_loss: 0.0782 - val_accuracy: 0.9843\n",
      "Epoch 10/20\n",
      "60000/60000 [==============================] - 3s 52us/step - loss: 0.0276 - accuracy: 0.9919 - val_loss: 0.0836 - val_accuracy: 0.9833\n",
      "Epoch 11/20\n",
      "60000/60000 [==============================] - 3s 54us/step - loss: 0.0260 - accuracy: 0.9926 - val_loss: 0.0875 - val_accuracy: 0.9837\n",
      "Epoch 12/20\n",
      "60000/60000 [==============================] - 3s 52us/step - loss: 0.0256 - accuracy: 0.9932 - val_loss: 0.0986 - val_accuracy: 0.9827\n",
      "Epoch 13/20\n",
      "60000/60000 [==============================] - 3s 56us/step - loss: 0.0243 - accuracy: 0.9929 - val_loss: 0.0937 - val_accuracy: 0.9829\n",
      "Epoch 14/20\n",
      "60000/60000 [==============================] - 3s 55us/step - loss: 0.0223 - accuracy: 0.9938 - val_loss: 0.1083 - val_accuracy: 0.9823\n",
      "Epoch 15/20\n",
      "60000/60000 [==============================] - 3s 55us/step - loss: 0.0229 - accuracy: 0.9935 - val_loss: 0.0870 - val_accuracy: 0.9842\n",
      "Epoch 16/20\n",
      "60000/60000 [==============================] - 3s 53us/step - loss: 0.0191 - accuracy: 0.9946 - val_loss: 0.0994 - val_accuracy: 0.9839\n",
      "Epoch 17/20\n",
      "60000/60000 [==============================] - 3s 53us/step - loss: 0.0202 - accuracy: 0.9946 - val_loss: 0.0980 - val_accuracy: 0.9840\n",
      "Epoch 18/20\n",
      "60000/60000 [==============================] - 3s 57us/step - loss: 0.0184 - accuracy: 0.9954 - val_loss: 0.1037 - val_accuracy: 0.9834\n",
      "Epoch 19/20\n",
      "60000/60000 [==============================] - 3s 53us/step - loss: 0.0176 - accuracy: 0.9954 - val_loss: 0.1023 - val_accuracy: 0.9836\n",
      "Epoch 20/20\n",
      "60000/60000 [==============================] - 3s 48us/step - loss: 0.0164 - accuracy: 0.9956 - val_loss: 0.1197 - val_accuracy: 0.9826\n",
      "Test loss: 0.11974403608219995\n",
      "Test accuracy: 0.9825999736785889\n"
     ]
    }
   ],
   "source": [
    "\n",
    "# convert class vectors to binary class matrices\n",
    "y_train = keras.utils.to_categorical(y_train, num_classes)\n",
    "y_test = keras.utils.to_categorical(y_test, num_classes)\n",
    "\n",
    "model = Sequential()\n",
    "model.add(Dense(512, activation='relu', input_shape=(784,)))\n",
    "model.add(Dropout(0.2))\n",
    "model.add(Dense(512, activation='relu'))\n",
    "model.add(Dropout(0.2))\n",
    "model.add(Dense(num_classes, activation='softmax'))\n",
    "\n",
    "model.summary()\n",
    "\n",
    "model.compile(loss='categorical_crossentropy',\n",
    "              optimizer=RMSprop(),\n",
    "              metrics=['accuracy'])\n",
    "\n",
    "history = model.fit(x_train, y_train,\n",
    "                    batch_size=batch_size,\n",
    "                    epochs=epochs,\n",
    "                    verbose=1,\n",
    "                    validation_data=(x_test, y_test))\n",
    "score = model.evaluate(x_test, y_test, verbose=0)\n",
    "print('Test loss:', score[0])\n",
    "print('Test accuracy:', score[1])"
   ]
  },
  {
   "cell_type": "code",
   "execution_count": null,
   "metadata": {},
   "outputs": [],
   "source": []
  }
 ],
 "metadata": {
  "kernelspec": {
   "display_name": "Python 3",
   "language": "python",
   "name": "python3"
  },
  "language_info": {
   "codemirror_mode": {
    "name": "ipython",
    "version": 3
   },
   "file_extension": ".py",
   "mimetype": "text/x-python",
   "name": "python",
   "nbconvert_exporter": "python",
   "pygments_lexer": "ipython3",
   "version": "3.7.6"
  }
 },
 "nbformat": 4,
 "nbformat_minor": 2
}
