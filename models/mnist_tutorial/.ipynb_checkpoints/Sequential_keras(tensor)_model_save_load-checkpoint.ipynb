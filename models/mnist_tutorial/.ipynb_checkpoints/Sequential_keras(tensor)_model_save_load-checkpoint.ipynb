{
 "cells": [
  {
   "cell_type": "code",
   "execution_count": 1,
   "metadata": {},
   "outputs": [],
   "source": [
    "import sys"
   ]
  },
  {
   "cell_type": "code",
   "execution_count": 2,
   "metadata": {},
   "outputs": [
    {
     "data": {
      "text/plain": [
       "'3.7.6 (v3.7.6:43364a7ae0, Dec 18 2019, 14:18:50) \\n[Clang 6.0 (clang-600.0.57)]'"
      ]
     },
     "execution_count": 2,
     "metadata": {},
     "output_type": "execute_result"
    }
   ],
   "source": [
    "sys.version"
   ]
  },
  {
   "cell_type": "code",
   "execution_count": 4,
   "metadata": {},
   "outputs": [],
   "source": [
    "from keras.datasets import mnist"
   ]
  },
  {
   "cell_type": "code",
   "execution_count": 5,
   "metadata": {},
   "outputs": [],
   "source": [
    "# Keras에는 두 가지 형태의 모델이 있습니다. [모델] Sequential과 [모델] 함수형 API입니다."
   ]
  },
  {
   "cell_type": "code",
   "execution_count": 6,
   "metadata": {},
   "outputs": [],
   "source": [
    "from keras.utils import np_utils\n",
    "from keras.models import Sequential\n",
    "from keras.layers import Dense\n",
    "from keras.callbacks import ModelCheckpoint, EarlyStopping\n",
    "\n",
    "import os\n",
    "\n",
    "MODEL_SAVE_FOLDER_PATH = './model/'\n",
    "\n",
    "if not os.path.exists(MODEL_SAVE_FOLDER_PATH):\n",
    "    os.mkdir(MODEL_SAVE_FOLDER_PATH)\n",
    "\n",
    "model_path = MODEL_SAVE_FOLDER_PATH + 'mnist-' + '{epoch:02d}-{val_loss:.4f}.hdf5'\n",
    "\n",
    "cb_checkpoint = ModelCheckpoint(filepath=model_path, monitor='val_loss',\n",
    "                                verbose=1, save_best_only=True)\n",
    "\n",
    "cb_early_stopping = EarlyStopping(monitor='val_loss', patience=10)\n",
    "\n",
    "(X_train, Y_train), (X_validation, Y_validation) = mnist.load_data()\n",
    "\n",
    "X_train = X_train.reshape(X_train.shape[0], 784).astype('float64') / 255\n",
    "X_validation = X_validation.reshape(X_validation.shape[0], 784).astype('float64') / 255\n",
    "# 데이터를 float 타입으로 변환 후 스케일링한다. 이는 이미지를 전처리하는 보편적인 방법 중 하나이다\n",
    "\n",
    "Y_train = np_utils.to_categorical(Y_train, 10)\n",
    "Y_validation = np_utils.to_categorical(Y_validation, 10)\n",
    "\n",
    "model = Sequential()\n",
    "model.add(Dense(512, input_dim=784, activation='relu'))\n",
    "model.add(Dense(10, activation='softmax'))\n",
    "# 선형, 게층적 Sequential 모델\n",
    "# 1계층, 활성화 함수 == relu\n",
    "# 2게층, 활성화 함수 == softmax\n",
    "\n",
    "model.compile(loss='categorical_crossentropy', optimizer='adam',\n",
    "              metrics=['accuracy'])\n",
    "# model compile 과정"
   ]
  },
  {
   "cell_type": "code",
   "execution_count": 7,
   "metadata": {},
   "outputs": [
    {
     "name": "stdout",
     "output_type": "stream",
     "text": [
      "mnist-03-0.0837.hdf5\n",
      "mnist-05-0.0685.hdf5\n",
      "mnist-08-0.0612.hdf5\n",
      "mnist-04-0.0740.hdf5\n",
      "mnist-01-0.1583.hdf5\n",
      "mnist-10-0.0593.hdf5\n",
      "mnist-06-0.0639.hdf5\n",
      "mnist-02-0.1113.hdf5\n"
     ]
    }
   ],
   "source": [
    "for rest_model in os.listdir('./model/'):\n",
    "    if rest_model[-5:] == '.hdf5':\n",
    "        os.remove('./model/'+rest_model)\n",
    "        print(rest_model)\n",
    "    else:\n",
    "        continue;\n",
    "# 재실행 하였을 때, 과거 세이빙모델 제거"
   ]
  },
  {
   "cell_type": "code",
   "execution_count": 8,
   "metadata": {},
   "outputs": [
    {
     "name": "stdout",
     "output_type": "stream",
     "text": [
      "\n",
      "Epoch 00001: val_loss improved from inf to 0.15465, saving model to ./model/mnist-01-0.1546.hdf5\n",
      "\n",
      "Epoch 00002: val_loss improved from 0.15465 to 0.09997, saving model to ./model/mnist-02-0.1000.hdf5\n",
      "\n",
      "Epoch 00003: val_loss improved from 0.09997 to 0.08846, saving model to ./model/mnist-03-0.0885.hdf5\n",
      "\n",
      "Epoch 00004: val_loss improved from 0.08846 to 0.07762, saving model to ./model/mnist-04-0.0776.hdf5\n",
      "\n",
      "Epoch 00005: val_loss improved from 0.07762 to 0.06949, saving model to ./model/mnist-05-0.0695.hdf5\n",
      "\n",
      "Epoch 00006: val_loss improved from 0.06949 to 0.06500, saving model to ./model/mnist-06-0.0650.hdf5\n",
      "\n",
      "Epoch 00007: val_loss improved from 0.06500 to 0.06360, saving model to ./model/mnist-07-0.0636.hdf5\n",
      "\n",
      "Epoch 00008: val_loss improved from 0.06360 to 0.06065, saving model to ./model/mnist-08-0.0607.hdf5\n",
      "\n",
      "Epoch 00009: val_loss did not improve from 0.06065\n",
      "\n",
      "Epoch 00010: val_loss improved from 0.06065 to 0.06041, saving model to ./model/mnist-10-0.0604.hdf5\n",
      "\n",
      "Epoch 00011: val_loss did not improve from 0.06041\n",
      "\n",
      "Epoch 00012: val_loss did not improve from 0.06041\n",
      "\n",
      "Epoch 00013: val_loss did not improve from 0.06041\n",
      "\n",
      "Epoch 00014: val_loss did not improve from 0.06041\n",
      "\n",
      "Epoch 00015: val_loss did not improve from 0.06041\n",
      "\n",
      "Epoch 00016: val_loss did not improve from 0.06041\n",
      "\n",
      "Epoch 00017: val_loss did not improve from 0.06041\n",
      "\n",
      "Epoch 00018: val_loss did not improve from 0.06041\n",
      "\n",
      "Epoch 00019: val_loss did not improve from 0.06041\n",
      "\n",
      "Epoch 00020: val_loss did not improve from 0.06041\n",
      "10000/10000 [==============================] - 0s 35us/step\n",
      "\n",
      "Accuracy: 0.9815\n"
     ]
    }
   ],
   "source": [
    "\n",
    "\n",
    "\n",
    "hist = model.fit(X_train, Y_train, validation_data=(X_validation, Y_validation),\n",
    "          epochs=30, batch_size=200, verbose=0,\n",
    "          callbacks=[cb_checkpoint, cb_early_stopping])\n",
    "\n",
    "print('\\nAccuracy: {:.4f}'.format(model.evaluate(X_validation, Y_validation)[1]))"
   ]
  },
  {
   "cell_type": "code",
   "execution_count": 9,
   "metadata": {},
   "outputs": [
    {
     "name": "stdout",
     "output_type": "stream",
     "text": [
      "(60000, 784) float64\n",
      "[[0. 0. 0. 0. 0. 1. 0. 0. 0. 0.]\n",
      " [1. 0. 0. 0. 0. 0. 0. 0. 0. 0.]\n",
      " [0. 0. 0. 0. 1. 0. 0. 0. 0. 0.]\n",
      " [0. 1. 0. 0. 0. 0. 0. 0. 0. 0.]\n",
      " [0. 0. 0. 0. 0. 0. 0. 0. 0. 1.]]\n"
     ]
    }
   ],
   "source": [
    "print(X_train.shape, X_train.dtype)\n",
    "# train 데이터의 차원, 데이터 타입\n",
    "print(Y_train[:5])\n",
    "# 정답은 y_train 데이터에 라벨링 되어있음\n"
   ]
  },
  {
   "cell_type": "code",
   "execution_count": 10,
   "metadata": {},
   "outputs": [
    {
     "name": "stdout",
     "output_type": "stream",
     "text": [
      "Model: \"sequential_1\"\n",
      "_________________________________________________________________\n",
      "Layer (type)                 Output Shape              Param #   \n",
      "=================================================================\n",
      "dense_1 (Dense)              (None, 512)               401920    \n",
      "_________________________________________________________________\n",
      "dense_2 (Dense)              (None, 10)                5130      \n",
      "=================================================================\n",
      "Total params: 407,050\n",
      "Trainable params: 407,050\n",
      "Non-trainable params: 0\n",
      "_________________________________________________________________\n"
     ]
    }
   ],
   "source": [
    "model.summary()"
   ]
  },
  {
   "cell_type": "code",
   "execution_count": 11,
   "metadata": {},
   "outputs": [
    {
     "data": {
      "text/plain": [
       "array([[3.81178873e-11, 8.30103808e-15, 6.78884238e-09, 1.99584474e-06,\n",
       "        4.03509132e-15, 6.97369571e-13, 1.35395876e-17, 9.99997973e-01,\n",
       "        1.99394301e-09, 1.12616205e-09]], dtype=float32)"
      ]
     },
     "execution_count": 11,
     "metadata": {},
     "output_type": "execute_result"
    }
   ],
   "source": [
    "model.predict(X_validation[:1, :])"
   ]
  },
  {
   "cell_type": "code",
   "execution_count": 12,
   "metadata": {},
   "outputs": [
    {
     "data": {
      "text/plain": [
       "array([7])"
      ]
     },
     "execution_count": 12,
     "metadata": {},
     "output_type": "execute_result"
    }
   ],
   "source": [
    "model.predict_classes(X_validation[:1, :], verbose=0)"
   ]
  },
  {
   "cell_type": "code",
   "execution_count": 13,
   "metadata": {},
   "outputs": [],
   "source": [
    "layer_0 = model.layers[0]\n",
    "layer_1 = model.layers[1]"
   ]
  },
  {
   "cell_type": "code",
   "execution_count": 14,
   "metadata": {},
   "outputs": [
    {
     "name": "stdout",
     "output_type": "stream",
     "text": [
      "dense_1 <class 'keras.layers.core.Dense'> (None, 512) relu 401920\n"
     ]
    }
   ],
   "source": [
    "print(layer_0.name, type(layer_0), layer_0.output_shape, layer_0.activation.__name__, layer_0.count_params())"
   ]
  },
  {
   "cell_type": "code",
   "execution_count": 15,
   "metadata": {},
   "outputs": [],
   "source": [
    "import matplotlib.pyplot as plt"
   ]
  },
  {
   "cell_type": "code",
   "execution_count": 17,
   "metadata": {},
   "outputs": [
    {
     "data": {
      "image/png": "[encoded data removed]",
      "text/plain": [
       "<Figure size 576x288 with 2 Axes>"
      ]
     },
     "metadata": {
      "needs_background": "light"
     },
     "output_type": "display_data"
    }
   ],
   "source": [
    "plt.figure(figsize=(8,4))\n",
    "plt.subplot(1, 2, 1)\n",
    "plt.plot(hist.history['loss'])\n",
    "plt.title(\"In_training_lossFuc\")\n",
    "plt.ylabel(\"loss_values\")\n",
    "plt.subplot(1, 2, 2)\n",
    "plt.title(\"In_training acc graph\")\n",
    "plt.ylabel(\"성능지표 값\")\n",
    "plt.plot(hist.history['accuracy'], 'b-', label=\"training_acc\")\n",
    "plt.plot(hist.history['val_accuracy'], 'r:', label=\"valid_acc\")\n",
    "plt.legend()\n",
    "plt.tight_layout()\n",
    "plt.show()"
   ]
  },
  {
   "cell_type": "code",
   "execution_count": 18,
   "metadata": {},
   "outputs": [
    {
     "data": {
      "text/plain": [
       "((784, 512), (512,))"
      ]
     },
     "execution_count": 18,
     "metadata": {},
     "output_type": "execute_result"
    }
   ],
   "source": [
    "# 첫번째 레이어의 가중치\n",
    "w1 = layer_0.get_weights()\n",
    "w1[0].shape, w1[1].shape"
   ]
  },
  {
   "cell_type": "code",
   "execution_count": 19,
   "metadata": {},
   "outputs": [
    {
     "data": {
      "text/plain": [
       "((512, 10), (10,))"
      ]
     },
     "execution_count": 19,
     "metadata": {},
     "output_type": "execute_result"
    }
   ],
   "source": [
    "# 두번째 레이어의 가중치\n",
    "w2 = layer_1.get_weights()\n",
    "w2[0].shape, w2[1].shape"
   ]
  },
  {
   "cell_type": "code",
   "execution_count": 20,
   "metadata": {},
   "outputs": [],
   "source": [
    "from datetime import datetime as day\n",
    "# 현재 날짜 관련 lib\n",
    "if not os.path.isdir(MODEL_SAVE_FOLDER_PATH + 'mnist'):\n",
    "    os.mkdir(MODEL_SAVE_FOLDER_PATH+'mnist')\n",
    "if not os.path.isfile(MODEL_SAVE_FOLDER_PATH + 'mnist/'+str(day.today().month)+str(day.today().day)+'.hdf5'): \n",
    "    model.save('./model/mnist/'+str(day.today().month)+str(day.today().day)+'.hdf5')\n",
    "    # 모델 저장\n",
    "    "
   ]
  },
  {
   "cell_type": "code",
   "execution_count": 21,
   "metadata": {},
   "outputs": [],
   "source": [
    "del model"
   ]
  },
  {
   "cell_type": "code",
   "execution_count": 22,
   "metadata": {},
   "outputs": [],
   "source": [
    "from keras.models import load_model\n",
    "# 모델 로드"
   ]
  },
  {
   "cell_type": "code",
   "execution_count": 23,
   "metadata": {},
   "outputs": [],
   "source": [
    "model2 = load_model('./model/mnist/'+str(day.today().month)+str(day.today().day)+'.hdf5')"
   ]
  },
  {
   "cell_type": "code",
   "execution_count": 24,
   "metadata": {},
   "outputs": [
    {
     "name": "stdout",
     "output_type": "stream",
     "text": [
      "[7 2 1 0 4 1 4 9 5 9 0 6 9 0 1 5 9 7 3 4 9 6 6 5 4 0 7 4 0 1 3 1 3 4 7 2 7\n",
      " 1 2 1 1 7 4 2 3 5 1 2 4 4 6 3 5 5 6 0 4 1 9 5 7 8 9 3 7 4 6 4 3 0 7 0 2 9\n",
      " 1 7 3 2 9 7 7 6 2 7 8 4 7 3 6 1 3 6 9 3 1 4 1 7 6 9]\n"
     ]
    }
   ],
   "source": [
    "print(model2.predict_classes(X_validation[:100, :], verbose=0))"
   ]
  }
 ],
 "metadata": {
  "kernelspec": {
   "display_name": "Python 3",
   "language": "python",
   "name": "python3"
  },
  "language_info": {
   "codemirror_mode": {
    "name": "ipython",
    "version": 3
   },
   "file_extension": ".py",
   "mimetype": "text/x-python",
   "name": "python",
   "nbconvert_exporter": "python",
   "pygments_lexer": "ipython3",
   "version": "3.7.6"
  }
 },
 "nbformat": 4,
 "nbformat_minor": 2
}
