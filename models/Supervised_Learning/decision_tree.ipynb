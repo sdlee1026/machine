{
 "cells": [
  {
   "cell_type": "code",
   "execution_count": 1,
   "metadata": {},
   "outputs": [
    {
     "name": "stdout",
     "output_type": "stream",
     "text": [
      "font size : 10.0\n",
      "font family : ['NanumGothic']\n",
      "python version : 3.7.6 (v3.7.6:43364a7ae0, Dec 18 2019, 14:18:50) \n",
      "[Clang 6.0 (clang-600.0.57)]\n",
      "pandas version : 0.25.3\n",
      "matplotlib version : 3.1.2\n",
      "numpy version : 1.18.1\n",
      "\n"
     ]
    }
   ],
   "source": [
    "import sys\n",
    "import warnings\n",
    "warnings.filterwarnings(action='ignore')\n",
    "import collections\n",
    "from IPython.display import display\n",
    "from IPython.display import Image\n",
    "import numpy as np\n",
    "import matplotlib.pyplot as plt\n",
    "import matplotlib as mpl\n",
    "from matplotlib import font_manager, rc\n",
    "import pandas as pd\n",
    "import mglearn\n",
    "from sklearn.model_selection import train_test_split\n",
    "\n",
    "mpl.rcParams['axes.unicode_minus'] = False\n",
    "font_fname = '/Users/seongdae/Library/Fonts/NanumGothicLight.ttf'\n",
    "font_name = font_manager.FontProperties(fname=font_fname).get_name()\n",
    "\n",
    "rc('font', family=font_name)\n",
    "# size, family\n",
    "print ('font size : '+str(plt.rcParams['font.size']) )\n",
    "print ('font family : '+str(plt.rcParams['font.family']) )\n",
    "# import default setting\n",
    "print('python version : {0}\\npandas version : {1}\\nmatplotlib version : {2}\\nnumpy version : {3}\\n'\n",
    ".format(sys.version, pd.__version__, mpl.__version__, np.__version__))"
   ]
  },
  {
   "cell_type": "markdown",
   "metadata": {},
   "source": [
    "# Decision Tree"
   ]
  },
  {
   "cell_type": "code",
   "execution_count": 2,
   "metadata": {},
   "outputs": [],
   "source": [
    "# 결정 트리는 분류와 회귀 문제에서 널리 사용하는 모델\n",
    "# 기본적으로 결정 트리는 결정에 다다르기 위해 예/아니오 질문을 이어 나가면서 학습, like 스무고개"
   ]
  },
  {
   "cell_type": "code",
   "execution_count": 3,
   "metadata": {},
   "outputs": [
    {
     "data": {
      "image/png": "[encoded data removed]",
      "text/plain": [
       "<Figure size 432x288 with 1 Axes>"
      ]
     },
     "metadata": {
      "needs_background": "light"
     },
     "output_type": "display_data"
    }
   ],
   "source": [
    "mglearn.plots.plot_animal_tree()"
   ]
  },
  {
   "cell_type": "code",
   "execution_count": 4,
   "metadata": {},
   "outputs": [],
   "source": [
    "# 결정 트리를 학습한다는 것은, 정답에 가장 빨리 도달하는 예/아니오 질문 목록을 학습하는 것\n",
    "    # 머신러닝에서는 이런 질문들을 테스트라고함\n",
    "    # 보통의 데이터들은 연속된 특성으로 구성됨, 연속적인 데이터에 적용할 테스트는\n",
    "        # \"특성 i는 값 å 보다 큰가?\" 와 같은 형태로 이루어짐\n",
    "# 순수 노드 : 데이터를 분할할때, 각 분할된 영역 (결정 트리의 리프_말단_터미널)이 한개의 타깃값(하나의 클래스, 하나의 회귀 분석 결과)\n",
    "# 를 가질때를 가질 때까지 반복함. 타깃 하나로만 이뤄진 리프노드를 순수 노드(pure node)라고 함"
   ]
  },
  {
   "cell_type": "code",
   "execution_count": 5,
   "metadata": {},
   "outputs": [],
   "source": [
    "# 일반적으로 트리를 짤때, 모든 리프 노드가 순수 노드가 될 떄까지 진행하면 모델이 매우 복잡해지고 훈련데이터에 과적합됨\n",
    "# 순수 노드로 이루어진 트리는 훈련 세트에 100% 정확하게 맞는다는 의미\n",
    "    # 과적합시에 트리에 의한 결정 경계들이 클래스 포인트들에게서 멀리 떨어진 이상치(outlier)하나에 너무 민감해짐\n",
    "# 과적합을 막는 두가지 전략\n",
    "    # 1. 트리 생성을 일찍 중단, 사전 가지치기(pre-pruning)\n",
    "        # 트리의 최대 깊이, 리프의 최대 개수를 제한 or 노드가 분할하기 위한 포인트의 최소 개수를 지정\n",
    "    # 2. 트리를 만든 후, 데이터 포인트가 적은 노드를 삭제하거나 병합하는 전략, 사후 가지치기(post-pruning) or 그냥 가지치기(pruning)라함"
   ]
  },
  {
   "cell_type": "code",
   "execution_count": 6,
   "metadata": {},
   "outputs": [],
   "source": [
    "# scikit-learn 에선 DecisionTreeRegressor/DecisionTreeClassifier 구현\n",
    "# 사전 가지치기만 지원"
   ]
  },
  {
   "cell_type": "code",
   "execution_count": 7,
   "metadata": {},
   "outputs": [
    {
     "name": "stdout",
     "output_type": "stream",
     "text": [
      "훈련 세트 정확도 : 1.0000\n",
      "테스트 세트 정확도 : 0.9371\n"
     ]
    }
   ],
   "source": [
    "#  결정 트리 분류기\n",
    "from sklearn.tree import DecisionTreeClassifier\n",
    "from sklearn.datasets import load_breast_cancer\n",
    "\n",
    "cancer = load_breast_cancer()\n",
    "X_train, X_test, y_train, y_test = train_test_split(cancer.data, cancer.target, stratify = cancer.target, random_state = 42)\n",
    "tree = DecisionTreeClassifier(random_state=0).fit(X_train, y_train)\n",
    "print('훈련 세트 정확도 : {:.4f}'.format(tree.score(X_train, y_train)))\n",
    "print('테스트 세트 정확도 : {:.4f}'.format(tree.score(X_test, y_test)))"
   ]
  },
  {
   "cell_type": "code",
   "execution_count": 8,
   "metadata": {},
   "outputs": [
    {
     "name": "stdout",
     "output_type": "stream",
     "text": [
      "훈련 세트 정확도 : 0.9883\n",
      "테스트 세트 정확도 : 0.9510\n"
     ]
    }
   ],
   "source": [
    "# 예상했던 대로 사전 가지치기를 하지 않아서(==모든 리프노드가 순수노드), 훈련 세트 정확도는 1이나, 테스트 세트의 경우 선형 회귀보다 스코어가 낮음\n",
    "# 개선을 위해서 매개변수를 줌\n",
    "    # 트리 최대 깊이 제한 max_depth =4\n",
    "tree_depth_pruning = DecisionTreeClassifier(random_state=0, max_depth=4).fit(X_train, y_train)\n",
    "print('훈련 세트 정확도 : {:.4f}'.format(tree_depth_pruning.score(X_train, y_train)))\n",
    "print('테스트 세트 정확도 : {:.4f}'.format(tree_depth_pruning.score(X_test, y_test)))\n",
    "# 훈련 스코어는 낮아졌지만, 테스트에서 예전보다 높은 스코어를 얻음 == 과대적합을 억제"
   ]
  },
  {
   "cell_type": "markdown",
   "metadata": {},
   "source": [
    "## 결정 트리 분석(시각화)"
   ]
  },
  {
   "cell_type": "code",
   "execution_count": 9,
   "metadata": {},
   "outputs": [],
   "source": [
    "# tree modul의 exprot_graphviz 함수 사용, 트리 시각화\n",
    "    # 이 함수는 그래프 저장용 텍스트 파일 포맷 .dot 파일 만듬\n",
    "    # 매개변수 filled = True < 노드의 클래스가 구분되도록 색으로 칠해짐\n",
    "    # 시각화를 위해 클래스 이븜과 특성 이름을 매개변수로 전달\n",
    "from sklearn.tree import export_graphviz\n",
    "export_graphviz(tree_depth_pruning, out_file='./dot_files/decision_tree.dot', class_names=['악성', '양성'],\n",
    "               feature_names=cancer.feature_names, impurity= False, filled=True)"
   ]
  },
  {
   "cell_type": "code",
   "execution_count": 10,
   "metadata": {},
   "outputs": [
    {
     "data": {
      "image/svg+xml": [
       "<?xml version=\"1.0\" encoding=\"UTF-8\" standalone=\"no\"?>\n",
       "<!DOCTYPE svg PUBLIC \"-//W3C//DTD SVG 1.1//EN\"\n",
       " \"http://www.w3.org/Graphics/SVG/1.1/DTD/svg11.dtd\">\n",
       "<!-- Generated by graphviz version 2.40.1 (20161225.0304)\n",
       " -->\n",
       "<!-- Title: Tree Pages: 1 -->\n",
       "<svg width=\"998pt\" height=\"477pt\"\n",
       " viewBox=\"0.00 0.00 998.00 477.00\" xmlns=\"http://www.w3.org/2000/svg\" xmlns:xlink=\"http://www.w3.org/1999/xlink\">\n",
       "<g id=\"graph0\" class=\"graph\" transform=\"scale(1 1) rotate(0) translate(4 473)\">\n",
       "<title>Tree</title>\n",
       "<polygon fill=\"#ffffff\" stroke=\"transparent\" points=\"-4,4 -4,-473 994,-473 994,4 -4,4\"/>\n",
       "<!-- 0 -->\n",
       "<g id=\"node1\" class=\"node\">\n",
       "<title>0</title>\n",
       "<polygon fill=\"#afd7f4\" stroke=\"#000000\" points=\"627.5,-469 480.5,-469 480.5,-401 627.5,-401 627.5,-469\"/>\n",
       "<text text-anchor=\"middle\" x=\"554\" y=\"-453.8\" font-family=\"Times,serif\" font-size=\"14.00\" fill=\"#000000\">worst radius &lt;= 16.795</text>\n",
       "<text text-anchor=\"middle\" x=\"554\" y=\"-438.8\" font-family=\"Times,serif\" font-size=\"14.00\" fill=\"#000000\">samples = 426</text>\n",
       "<text text-anchor=\"middle\" x=\"554\" y=\"-423.8\" font-family=\"Times,serif\" font-size=\"14.00\" fill=\"#000000\">value = [159, 267]</text>\n",
       "<text text-anchor=\"middle\" x=\"554\" y=\"-408.8\" font-family=\"Times,serif\" font-size=\"14.00\" fill=\"#000000\">class = 양성</text>\n",
       "</g>\n",
       "<!-- 1 -->\n",
       "<g id=\"node2\" class=\"node\">\n",
       "<title>1</title>\n",
       "<polygon fill=\"#4ca6e8\" stroke=\"#000000\" points=\"545.5,-365 356.5,-365 356.5,-297 545.5,-297 545.5,-365\"/>\n",
       "<text text-anchor=\"middle\" x=\"451\" y=\"-349.8\" font-family=\"Times,serif\" font-size=\"14.00\" fill=\"#000000\">worst concave points &lt;= 0.136</text>\n",
       "<text text-anchor=\"middle\" x=\"451\" y=\"-334.8\" font-family=\"Times,serif\" font-size=\"14.00\" fill=\"#000000\">samples = 284</text>\n",
       "<text text-anchor=\"middle\" x=\"451\" y=\"-319.8\" font-family=\"Times,serif\" font-size=\"14.00\" fill=\"#000000\">value = [25, 259]</text>\n",
       "<text text-anchor=\"middle\" x=\"451\" y=\"-304.8\" font-family=\"Times,serif\" font-size=\"14.00\" fill=\"#000000\">class = 양성</text>\n",
       "</g>\n",
       "<!-- 0&#45;&gt;1 -->\n",
       "<g id=\"edge1\" class=\"edge\">\n",
       "<title>0&#45;&gt;1</title>\n",
       "<path fill=\"none\" stroke=\"#000000\" d=\"M520.2739,-400.9465C511.2039,-391.7884 501.2955,-381.7838 491.8819,-372.2788\"/>\n",
       "<polygon fill=\"#000000\" stroke=\"#000000\" points=\"494.3255,-369.7723 484.8018,-365.13 489.3519,-374.6981 494.3255,-369.7723\"/>\n",
       "<text text-anchor=\"middle\" x=\"484.6811\" y=\"-386.4297\" font-family=\"Times,serif\" font-size=\"14.00\" fill=\"#000000\">True</text>\n",
       "</g>\n",
       "<!-- 14 -->\n",
       "<g id=\"node15\" class=\"node\">\n",
       "<title>14</title>\n",
       "<polygon fill=\"#e78945\" stroke=\"#000000\" points=\"710,-365 570,-365 570,-297 710,-297 710,-365\"/>\n",
       "<text text-anchor=\"middle\" x=\"640\" y=\"-349.8\" font-family=\"Times,serif\" font-size=\"14.00\" fill=\"#000000\">texture error &lt;= 0.473</text>\n",
       "<text text-anchor=\"middle\" x=\"640\" y=\"-334.8\" font-family=\"Times,serif\" font-size=\"14.00\" fill=\"#000000\">samples = 142</text>\n",
       "<text text-anchor=\"middle\" x=\"640\" y=\"-319.8\" font-family=\"Times,serif\" font-size=\"14.00\" fill=\"#000000\">value = [134, 8]</text>\n",
       "<text text-anchor=\"middle\" x=\"640\" y=\"-304.8\" font-family=\"Times,serif\" font-size=\"14.00\" fill=\"#000000\">class = 악성</text>\n",
       "</g>\n",
       "<!-- 0&#45;&gt;14 -->\n",
       "<g id=\"edge14\" class=\"edge\">\n",
       "<title>0&#45;&gt;14</title>\n",
       "<path fill=\"none\" stroke=\"#000000\" d=\"M582.1596,-400.9465C589.5842,-391.968 597.6815,-382.1758 605.4028,-372.8385\"/>\n",
       "<polygon fill=\"#000000\" stroke=\"#000000\" points=\"608.1017,-375.0669 611.7771,-365.13 602.7072,-370.606 608.1017,-375.0669\"/>\n",
       "<text text-anchor=\"middle\" x=\"614.135\" y=\"-386.3186\" font-family=\"Times,serif\" font-size=\"14.00\" fill=\"#000000\">False</text>\n",
       "</g>\n",
       "<!-- 2 -->\n",
       "<g id=\"node3\" class=\"node\">\n",
       "<title>2</title>\n",
       "<polygon fill=\"#3c9fe5\" stroke=\"#000000\" points=\"350,-261 214,-261 214,-193 350,-193 350,-261\"/>\n",
       "<text text-anchor=\"middle\" x=\"282\" y=\"-245.8\" font-family=\"Times,serif\" font-size=\"14.00\" fill=\"#000000\">radius error &lt;= 1.048</text>\n",
       "<text text-anchor=\"middle\" x=\"282\" y=\"-230.8\" font-family=\"Times,serif\" font-size=\"14.00\" fill=\"#000000\">samples = 252</text>\n",
       "<text text-anchor=\"middle\" x=\"282\" y=\"-215.8\" font-family=\"Times,serif\" font-size=\"14.00\" fill=\"#000000\">value = [4, 248]</text>\n",
       "<text text-anchor=\"middle\" x=\"282\" y=\"-200.8\" font-family=\"Times,serif\" font-size=\"14.00\" fill=\"#000000\">class = 양성</text>\n",
       "</g>\n",
       "<!-- 1&#45;&gt;2 -->\n",
       "<g id=\"edge2\" class=\"edge\">\n",
       "<title>1&#45;&gt;2</title>\n",
       "<path fill=\"none\" stroke=\"#000000\" d=\"M395.6631,-296.9465C379.9058,-287.2497 362.6063,-276.6039 346.3613,-266.6069\"/>\n",
       "<polygon fill=\"#000000\" stroke=\"#000000\" points=\"347.8122,-263.3902 337.4612,-261.13 344.1435,-269.3518 347.8122,-263.3902\"/>\n",
       "</g>\n",
       "<!-- 7 -->\n",
       "<g id=\"node8\" class=\"node\">\n",
       "<title>7</title>\n",
       "<polygon fill=\"#f3c3a1\" stroke=\"#000000\" points=\"523,-261 379,-261 379,-193 523,-193 523,-261\"/>\n",
       "<text text-anchor=\"middle\" x=\"451\" y=\"-245.8\" font-family=\"Times,serif\" font-size=\"14.00\" fill=\"#000000\">worst texture &lt;= 25.62</text>\n",
       "<text text-anchor=\"middle\" x=\"451\" y=\"-230.8\" font-family=\"Times,serif\" font-size=\"14.00\" fill=\"#000000\">samples = 32</text>\n",
       "<text text-anchor=\"middle\" x=\"451\" y=\"-215.8\" font-family=\"Times,serif\" font-size=\"14.00\" fill=\"#000000\">value = [21, 11]</text>\n",
       "<text text-anchor=\"middle\" x=\"451\" y=\"-200.8\" font-family=\"Times,serif\" font-size=\"14.00\" fill=\"#000000\">class = 악성</text>\n",
       "</g>\n",
       "<!-- 1&#45;&gt;7 -->\n",
       "<g id=\"edge7\" class=\"edge\">\n",
       "<title>1&#45;&gt;7</title>\n",
       "<path fill=\"none\" stroke=\"#000000\" d=\"M451,-296.9465C451,-288.776 451,-279.9318 451,-271.3697\"/>\n",
       "<polygon fill=\"#000000\" stroke=\"#000000\" points=\"454.5001,-271.13 451,-261.13 447.5001,-271.13 454.5001,-271.13\"/>\n",
       "</g>\n",
       "<!-- 3 -->\n",
       "<g id=\"node4\" class=\"node\">\n",
       "<title>3</title>\n",
       "<polygon fill=\"#3b9ee5\" stroke=\"#000000\" points=\"217.5,-157 50.5,-157 50.5,-89 217.5,-89 217.5,-157\"/>\n",
       "<text text-anchor=\"middle\" x=\"134\" y=\"-141.8\" font-family=\"Times,serif\" font-size=\"14.00\" fill=\"#000000\">smoothness error &lt;= 0.003</text>\n",
       "<text text-anchor=\"middle\" x=\"134\" y=\"-126.8\" font-family=\"Times,serif\" font-size=\"14.00\" fill=\"#000000\">samples = 251</text>\n",
       "<text text-anchor=\"middle\" x=\"134\" y=\"-111.8\" font-family=\"Times,serif\" font-size=\"14.00\" fill=\"#000000\">value = [3, 248]</text>\n",
       "<text text-anchor=\"middle\" x=\"134\" y=\"-96.8\" font-family=\"Times,serif\" font-size=\"14.00\" fill=\"#000000\">class = 양성</text>\n",
       "</g>\n",
       "<!-- 2&#45;&gt;3 -->\n",
       "<g id=\"edge3\" class=\"edge\">\n",
       "<title>2&#45;&gt;3</title>\n",
       "<path fill=\"none\" stroke=\"#000000\" d=\"M233.5393,-192.9465C219.8677,-183.3395 204.8706,-172.8009 190.7591,-162.8848\"/>\n",
       "<polygon fill=\"#000000\" stroke=\"#000000\" points=\"192.7639,-160.0158 182.5696,-157.13 188.7392,-165.7432 192.7639,-160.0158\"/>\n",
       "</g>\n",
       "<!-- 6 -->\n",
       "<g id=\"node7\" class=\"node\">\n",
       "<title>6</title>\n",
       "<polygon fill=\"#e58139\" stroke=\"#000000\" points=\"328,-149.5 236,-149.5 236,-96.5 328,-96.5 328,-149.5\"/>\n",
       "<text text-anchor=\"middle\" x=\"282\" y=\"-134.3\" font-family=\"Times,serif\" font-size=\"14.00\" fill=\"#000000\">samples = 1</text>\n",
       "<text text-anchor=\"middle\" x=\"282\" y=\"-119.3\" font-family=\"Times,serif\" font-size=\"14.00\" fill=\"#000000\">value = [1, 0]</text>\n",
       "<text text-anchor=\"middle\" x=\"282\" y=\"-104.3\" font-family=\"Times,serif\" font-size=\"14.00\" fill=\"#000000\">class = 악성</text>\n",
       "</g>\n",
       "<!-- 2&#45;&gt;6 -->\n",
       "<g id=\"edge6\" class=\"edge\">\n",
       "<title>2&#45;&gt;6</title>\n",
       "<path fill=\"none\" stroke=\"#000000\" d=\"M282,-192.9465C282,-182.2621 282,-170.4254 282,-159.5742\"/>\n",
       "<polygon fill=\"#000000\" stroke=\"#000000\" points=\"285.5001,-159.5421 282,-149.5422 278.5001,-159.5422 285.5001,-159.5421\"/>\n",
       "</g>\n",
       "<!-- 4 -->\n",
       "<g id=\"node5\" class=\"node\">\n",
       "<title>4</title>\n",
       "<polygon fill=\"#7bbeee\" stroke=\"#000000\" points=\"92,-53 0,-53 0,0 92,0 92,-53\"/>\n",
       "<text text-anchor=\"middle\" x=\"46\" y=\"-37.8\" font-family=\"Times,serif\" font-size=\"14.00\" fill=\"#000000\">samples = 4</text>\n",
       "<text text-anchor=\"middle\" x=\"46\" y=\"-22.8\" font-family=\"Times,serif\" font-size=\"14.00\" fill=\"#000000\">value = [1, 3]</text>\n",
       "<text text-anchor=\"middle\" x=\"46\" y=\"-7.8\" font-family=\"Times,serif\" font-size=\"14.00\" fill=\"#000000\">class = 양성</text>\n",
       "</g>\n",
       "<!-- 3&#45;&gt;4 -->\n",
       "<g id=\"edge4\" class=\"edge\">\n",
       "<title>3&#45;&gt;4</title>\n",
       "<path fill=\"none\" stroke=\"#000000\" d=\"M102.9745,-88.9777C94.6241,-79.8207 85.589,-69.9129 77.2276,-60.744\"/>\n",
       "<polygon fill=\"#000000\" stroke=\"#000000\" points=\"79.7167,-58.2791 70.3924,-53.2485 74.5444,-62.9959 79.7167,-58.2791\"/>\n",
       "</g>\n",
       "<!-- 5 -->\n",
       "<g id=\"node6\" class=\"node\">\n",
       "<title>5</title>\n",
       "<polygon fill=\"#3b9ee5\" stroke=\"#000000\" points=\"216,-53 110,-53 110,0 216,0 216,-53\"/>\n",
       "<text text-anchor=\"middle\" x=\"163\" y=\"-37.8\" font-family=\"Times,serif\" font-size=\"14.00\" fill=\"#000000\">samples = 247</text>\n",
       "<text text-anchor=\"middle\" x=\"163\" y=\"-22.8\" font-family=\"Times,serif\" font-size=\"14.00\" fill=\"#000000\">value = [2, 245]</text>\n",
       "<text text-anchor=\"middle\" x=\"163\" y=\"-7.8\" font-family=\"Times,serif\" font-size=\"14.00\" fill=\"#000000\">class = 양성</text>\n",
       "</g>\n",
       "<!-- 3&#45;&gt;5 -->\n",
       "<g id=\"edge5\" class=\"edge\">\n",
       "<title>3&#45;&gt;5</title>\n",
       "<path fill=\"none\" stroke=\"#000000\" d=\"M144.2243,-88.9777C146.756,-80.5533 149.4787,-71.4934 152.0437,-62.9579\"/>\n",
       "<polygon fill=\"#000000\" stroke=\"#000000\" points=\"155.4354,-63.8327 154.9616,-53.2485 148.7316,-61.818 155.4354,-63.8327\"/>\n",
       "</g>\n",
       "<!-- 8 -->\n",
       "<g id=\"node9\" class=\"node\">\n",
       "<title>8</title>\n",
       "<polygon fill=\"#7bbeee\" stroke=\"#000000\" points=\"517.5,-157 346.5,-157 346.5,-89 517.5,-89 517.5,-157\"/>\n",
       "<text text-anchor=\"middle\" x=\"432\" y=\"-141.8\" font-family=\"Times,serif\" font-size=\"14.00\" fill=\"#000000\">worst smoothness &lt;= 0.179</text>\n",
       "<text text-anchor=\"middle\" x=\"432\" y=\"-126.8\" font-family=\"Times,serif\" font-size=\"14.00\" fill=\"#000000\">samples = 12</text>\n",
       "<text text-anchor=\"middle\" x=\"432\" y=\"-111.8\" font-family=\"Times,serif\" font-size=\"14.00\" fill=\"#000000\">value = [3, 9]</text>\n",
       "<text text-anchor=\"middle\" x=\"432\" y=\"-96.8\" font-family=\"Times,serif\" font-size=\"14.00\" fill=\"#000000\">class = 양성</text>\n",
       "</g>\n",
       "<!-- 7&#45;&gt;8 -->\n",
       "<g id=\"edge8\" class=\"edge\">\n",
       "<title>7&#45;&gt;8</title>\n",
       "<path fill=\"none\" stroke=\"#000000\" d=\"M444.7787,-192.9465C443.2696,-184.6863 441.6347,-175.7374 440.0545,-167.0875\"/>\n",
       "<polygon fill=\"#000000\" stroke=\"#000000\" points=\"443.4756,-166.3381 438.2353,-157.13 436.5895,-167.5962 443.4756,-166.3381\"/>\n",
       "</g>\n",
       "<!-- 11 -->\n",
       "<g id=\"node12\" class=\"node\">\n",
       "<title>11</title>\n",
       "<polygon fill=\"#e88f4f\" stroke=\"#000000\" points=\"696.5,-157 535.5,-157 535.5,-89 696.5,-89 696.5,-157\"/>\n",
       "<text text-anchor=\"middle\" x=\"616\" y=\"-141.8\" font-family=\"Times,serif\" font-size=\"14.00\" fill=\"#000000\">worst symmetry &lt;= 0.268</text>\n",
       "<text text-anchor=\"middle\" x=\"616\" y=\"-126.8\" font-family=\"Times,serif\" font-size=\"14.00\" fill=\"#000000\">samples = 20</text>\n",
       "<text text-anchor=\"middle\" x=\"616\" y=\"-111.8\" font-family=\"Times,serif\" font-size=\"14.00\" fill=\"#000000\">value = [18, 2]</text>\n",
       "<text text-anchor=\"middle\" x=\"616\" y=\"-96.8\" font-family=\"Times,serif\" font-size=\"14.00\" fill=\"#000000\">class = 악성</text>\n",
       "</g>\n",
       "<!-- 7&#45;&gt;11 -->\n",
       "<g id=\"edge11\" class=\"edge\">\n",
       "<title>7&#45;&gt;11</title>\n",
       "<path fill=\"none\" stroke=\"#000000\" d=\"M505.0272,-192.9465C520.4115,-183.2497 537.3016,-172.6039 553.1621,-162.6069\"/>\n",
       "<polygon fill=\"#000000\" stroke=\"#000000\" points=\"555.258,-165.4232 561.8514,-157.13 551.5254,-159.5013 555.258,-165.4232\"/>\n",
       "</g>\n",
       "<!-- 9 -->\n",
       "<g id=\"node10\" class=\"node\">\n",
       "<title>9</title>\n",
       "<polygon fill=\"#4fa8e8\" stroke=\"#000000\" points=\"371,-53 279,-53 279,0 371,0 371,-53\"/>\n",
       "<text text-anchor=\"middle\" x=\"325\" y=\"-37.8\" font-family=\"Times,serif\" font-size=\"14.00\" fill=\"#000000\">samples = 10</text>\n",
       "<text text-anchor=\"middle\" x=\"325\" y=\"-22.8\" font-family=\"Times,serif\" font-size=\"14.00\" fill=\"#000000\">value = [1, 9]</text>\n",
       "<text text-anchor=\"middle\" x=\"325\" y=\"-7.8\" font-family=\"Times,serif\" font-size=\"14.00\" fill=\"#000000\">class = 양성</text>\n",
       "</g>\n",
       "<!-- 8&#45;&gt;9 -->\n",
       "<g id=\"edge9\" class=\"edge\">\n",
       "<title>8&#45;&gt;9</title>\n",
       "<path fill=\"none\" stroke=\"#000000\" d=\"M394.2758,-88.9777C383.9194,-79.6376 372.6969,-69.5163 362.361,-60.1947\"/>\n",
       "<polygon fill=\"#000000\" stroke=\"#000000\" points=\"364.4291,-57.3467 354.6589,-53.2485 359.7409,-62.5449 364.4291,-57.3467\"/>\n",
       "</g>\n",
       "<!-- 10 -->\n",
       "<g id=\"node11\" class=\"node\">\n",
       "<title>10</title>\n",
       "<polygon fill=\"#e58139\" stroke=\"#000000\" points=\"481,-53 389,-53 389,0 481,0 481,-53\"/>\n",
       "<text text-anchor=\"middle\" x=\"435\" y=\"-37.8\" font-family=\"Times,serif\" font-size=\"14.00\" fill=\"#000000\">samples = 2</text>\n",
       "<text text-anchor=\"middle\" x=\"435\" y=\"-22.8\" font-family=\"Times,serif\" font-size=\"14.00\" fill=\"#000000\">value = [2, 0]</text>\n",
       "<text text-anchor=\"middle\" x=\"435\" y=\"-7.8\" font-family=\"Times,serif\" font-size=\"14.00\" fill=\"#000000\">class = 악성</text>\n",
       "</g>\n",
       "<!-- 8&#45;&gt;10 -->\n",
       "<g id=\"edge10\" class=\"edge\">\n",
       "<title>8&#45;&gt;10</title>\n",
       "<path fill=\"none\" stroke=\"#000000\" d=\"M433.0577,-88.9777C433.3139,-80.7364 433.589,-71.887 433.8493,-63.5153\"/>\n",
       "<polygon fill=\"#000000\" stroke=\"#000000\" points=\"437.3559,-63.3524 434.1684,-53.2485 430.3593,-63.1349 437.3559,-63.3524\"/>\n",
       "</g>\n",
       "<!-- 12 -->\n",
       "<g id=\"node13\" class=\"node\">\n",
       "<title>12</title>\n",
       "<polygon fill=\"#9ccef2\" stroke=\"#000000\" points=\"601,-53 509,-53 509,0 601,0 601,-53\"/>\n",
       "<text text-anchor=\"middle\" x=\"555\" y=\"-37.8\" font-family=\"Times,serif\" font-size=\"14.00\" fill=\"#000000\">samples = 3</text>\n",
       "<text text-anchor=\"middle\" x=\"555\" y=\"-22.8\" font-family=\"Times,serif\" font-size=\"14.00\" fill=\"#000000\">value = [1, 2]</text>\n",
       "<text text-anchor=\"middle\" x=\"555\" y=\"-7.8\" font-family=\"Times,serif\" font-size=\"14.00\" fill=\"#000000\">class = 양성</text>\n",
       "</g>\n",
       "<!-- 11&#45;&gt;12 -->\n",
       "<g id=\"edge12\" class=\"edge\">\n",
       "<title>11&#45;&gt;12</title>\n",
       "<path fill=\"none\" stroke=\"#000000\" d=\"M594.4937,-88.9777C588.9369,-80.187 582.9427,-70.7044 577.3441,-61.8477\"/>\n",
       "<polygon fill=\"#000000\" stroke=\"#000000\" points=\"580.2101,-59.8312 571.9084,-53.2485 574.2931,-63.5714 580.2101,-59.8312\"/>\n",
       "</g>\n",
       "<!-- 13 -->\n",
       "<g id=\"node14\" class=\"node\">\n",
       "<title>13</title>\n",
       "<polygon fill=\"#e58139\" stroke=\"#000000\" points=\"718.5,-53 619.5,-53 619.5,0 718.5,0 718.5,-53\"/>\n",
       "<text text-anchor=\"middle\" x=\"669\" y=\"-37.8\" font-family=\"Times,serif\" font-size=\"14.00\" fill=\"#000000\">samples = 17</text>\n",
       "<text text-anchor=\"middle\" x=\"669\" y=\"-22.8\" font-family=\"Times,serif\" font-size=\"14.00\" fill=\"#000000\">value = [17, 0]</text>\n",
       "<text text-anchor=\"middle\" x=\"669\" y=\"-7.8\" font-family=\"Times,serif\" font-size=\"14.00\" fill=\"#000000\">class = 악성</text>\n",
       "</g>\n",
       "<!-- 11&#45;&gt;13 -->\n",
       "<g id=\"edge13\" class=\"edge\">\n",
       "<title>11&#45;&gt;13</title>\n",
       "<path fill=\"none\" stroke=\"#000000\" d=\"M634.6858,-88.9777C639.4636,-80.2786 644.6135,-70.9018 649.4341,-62.1247\"/>\n",
       "<polygon fill=\"#000000\" stroke=\"#000000\" points=\"652.5629,-63.6984 654.3091,-53.2485 646.4274,-60.3286 652.5629,-63.6984\"/>\n",
       "</g>\n",
       "<!-- 15 -->\n",
       "<g id=\"node16\" class=\"node\">\n",
       "<title>15</title>\n",
       "<polygon fill=\"#399de5\" stroke=\"#000000\" points=\"686,-253.5 594,-253.5 594,-200.5 686,-200.5 686,-253.5\"/>\n",
       "<text text-anchor=\"middle\" x=\"640\" y=\"-238.3\" font-family=\"Times,serif\" font-size=\"14.00\" fill=\"#000000\">samples = 5</text>\n",
       "<text text-anchor=\"middle\" x=\"640\" y=\"-223.3\" font-family=\"Times,serif\" font-size=\"14.00\" fill=\"#000000\">value = [0, 5]</text>\n",
       "<text text-anchor=\"middle\" x=\"640\" y=\"-208.3\" font-family=\"Times,serif\" font-size=\"14.00\" fill=\"#000000\">class = 양성</text>\n",
       "</g>\n",
       "<!-- 14&#45;&gt;15 -->\n",
       "<g id=\"edge15\" class=\"edge\">\n",
       "<title>14&#45;&gt;15</title>\n",
       "<path fill=\"none\" stroke=\"#000000\" d=\"M640,-296.9465C640,-286.2621 640,-274.4254 640,-263.5742\"/>\n",
       "<polygon fill=\"#000000\" stroke=\"#000000\" points=\"643.5001,-263.5421 640,-253.5422 636.5001,-263.5422 643.5001,-263.5421\"/>\n",
       "</g>\n",
       "<!-- 16 -->\n",
       "<g id=\"node17\" class=\"node\">\n",
       "<title>16</title>\n",
       "<polygon fill=\"#e6843d\" stroke=\"#000000\" points=\"870,-261 710,-261 710,-193 870,-193 870,-261\"/>\n",
       "<text text-anchor=\"middle\" x=\"790\" y=\"-245.8\" font-family=\"Times,serif\" font-size=\"14.00\" fill=\"#000000\">worst concavity &lt;= 0.191</text>\n",
       "<text text-anchor=\"middle\" x=\"790\" y=\"-230.8\" font-family=\"Times,serif\" font-size=\"14.00\" fill=\"#000000\">samples = 137</text>\n",
       "<text text-anchor=\"middle\" x=\"790\" y=\"-215.8\" font-family=\"Times,serif\" font-size=\"14.00\" fill=\"#000000\">value = [134, 3]</text>\n",
       "<text text-anchor=\"middle\" x=\"790\" y=\"-200.8\" font-family=\"Times,serif\" font-size=\"14.00\" fill=\"#000000\">class = 악성</text>\n",
       "</g>\n",
       "<!-- 14&#45;&gt;16 -->\n",
       "<g id=\"edge16\" class=\"edge\">\n",
       "<title>14&#45;&gt;16</title>\n",
       "<path fill=\"none\" stroke=\"#000000\" d=\"M689.1156,-296.9465C702.9719,-287.3395 718.1717,-276.8009 732.4739,-266.8848\"/>\n",
       "<polygon fill=\"#000000\" stroke=\"#000000\" points=\"734.5503,-269.7041 740.774,-261.13 730.5618,-263.9515 734.5503,-269.7041\"/>\n",
       "</g>\n",
       "<!-- 17 -->\n",
       "<g id=\"node18\" class=\"node\">\n",
       "<title>17</title>\n",
       "<polygon fill=\"#bddef6\" stroke=\"#000000\" points=\"865.5,-157 714.5,-157 714.5,-89 865.5,-89 865.5,-157\"/>\n",
       "<text text-anchor=\"middle\" x=\"790\" y=\"-141.8\" font-family=\"Times,serif\" font-size=\"14.00\" fill=\"#000000\">worst texture &lt;= 30.975</text>\n",
       "<text text-anchor=\"middle\" x=\"790\" y=\"-126.8\" font-family=\"Times,serif\" font-size=\"14.00\" fill=\"#000000\">samples = 5</text>\n",
       "<text text-anchor=\"middle\" x=\"790\" y=\"-111.8\" font-family=\"Times,serif\" font-size=\"14.00\" fill=\"#000000\">value = [2, 3]</text>\n",
       "<text text-anchor=\"middle\" x=\"790\" y=\"-96.8\" font-family=\"Times,serif\" font-size=\"14.00\" fill=\"#000000\">class = 양성</text>\n",
       "</g>\n",
       "<!-- 16&#45;&gt;17 -->\n",
       "<g id=\"edge17\" class=\"edge\">\n",
       "<title>16&#45;&gt;17</title>\n",
       "<path fill=\"none\" stroke=\"#000000\" d=\"M790,-192.9465C790,-184.776 790,-175.9318 790,-167.3697\"/>\n",
       "<polygon fill=\"#000000\" stroke=\"#000000\" points=\"793.5001,-167.13 790,-157.13 786.5001,-167.13 793.5001,-167.13\"/>\n",
       "</g>\n",
       "<!-- 20 -->\n",
       "<g id=\"node21\" class=\"node\">\n",
       "<title>20</title>\n",
       "<polygon fill=\"#e58139\" stroke=\"#000000\" points=\"990,-149.5 884,-149.5 884,-96.5 990,-96.5 990,-149.5\"/>\n",
       "<text text-anchor=\"middle\" x=\"937\" y=\"-134.3\" font-family=\"Times,serif\" font-size=\"14.00\" fill=\"#000000\">samples = 132</text>\n",
       "<text text-anchor=\"middle\" x=\"937\" y=\"-119.3\" font-family=\"Times,serif\" font-size=\"14.00\" fill=\"#000000\">value = [132, 0]</text>\n",
       "<text text-anchor=\"middle\" x=\"937\" y=\"-104.3\" font-family=\"Times,serif\" font-size=\"14.00\" fill=\"#000000\">class = 악성</text>\n",
       "</g>\n",
       "<!-- 16&#45;&gt;20 -->\n",
       "<g id=\"edge20\" class=\"edge\">\n",
       "<title>16&#45;&gt;20</title>\n",
       "<path fill=\"none\" stroke=\"#000000\" d=\"M838.1333,-192.9465C855.1037,-180.9403 874.1304,-167.4791 890.9265,-155.5962\"/>\n",
       "<polygon fill=\"#000000\" stroke=\"#000000\" points=\"893.3416,-158.175 899.4837,-149.5422 889.2987,-152.4605 893.3416,-158.175\"/>\n",
       "</g>\n",
       "<!-- 18 -->\n",
       "<g id=\"node19\" class=\"node\">\n",
       "<title>18</title>\n",
       "<polygon fill=\"#399de5\" stroke=\"#000000\" points=\"834,-53 742,-53 742,0 834,0 834,-53\"/>\n",
       "<text text-anchor=\"middle\" x=\"788\" y=\"-37.8\" font-family=\"Times,serif\" font-size=\"14.00\" fill=\"#000000\">samples = 3</text>\n",
       "<text text-anchor=\"middle\" x=\"788\" y=\"-22.8\" font-family=\"Times,serif\" font-size=\"14.00\" fill=\"#000000\">value = [0, 3]</text>\n",
       "<text text-anchor=\"middle\" x=\"788\" y=\"-7.8\" font-family=\"Times,serif\" font-size=\"14.00\" fill=\"#000000\">class = 양성</text>\n",
       "</g>\n",
       "<!-- 17&#45;&gt;18 -->\n",
       "<g id=\"edge18\" class=\"edge\">\n",
       "<title>17&#45;&gt;18</title>\n",
       "<path fill=\"none\" stroke=\"#000000\" d=\"M789.2949,-88.9777C789.1241,-80.7364 788.9407,-71.887 788.7672,-63.5153\"/>\n",
       "<polygon fill=\"#000000\" stroke=\"#000000\" points=\"792.2609,-63.1738 788.5544,-53.2485 785.2624,-63.3189 792.2609,-63.1738\"/>\n",
       "</g>\n",
       "<!-- 19 -->\n",
       "<g id=\"node20\" class=\"node\">\n",
       "<title>19</title>\n",
       "<polygon fill=\"#e58139\" stroke=\"#000000\" points=\"944,-53 852,-53 852,0 944,0 944,-53\"/>\n",
       "<text text-anchor=\"middle\" x=\"898\" y=\"-37.8\" font-family=\"Times,serif\" font-size=\"14.00\" fill=\"#000000\">samples = 2</text>\n",
       "<text text-anchor=\"middle\" x=\"898\" y=\"-22.8\" font-family=\"Times,serif\" font-size=\"14.00\" fill=\"#000000\">value = [2, 0]</text>\n",
       "<text text-anchor=\"middle\" x=\"898\" y=\"-7.8\" font-family=\"Times,serif\" font-size=\"14.00\" fill=\"#000000\">class = 악성</text>\n",
       "</g>\n",
       "<!-- 17&#45;&gt;19 -->\n",
       "<g id=\"edge19\" class=\"edge\">\n",
       "<title>17&#45;&gt;19</title>\n",
       "<path fill=\"none\" stroke=\"#000000\" d=\"M828.0768,-88.9777C838.6324,-79.546 850.0796,-69.3178 860.5964,-59.9208\"/>\n",
       "<polygon fill=\"#000000\" stroke=\"#000000\" points=\"862.939,-62.5213 868.0639,-53.2485 858.2749,-57.3015 862.939,-62.5213\"/>\n",
       "</g>\n",
       "</g>\n",
       "</svg>\n"
      ],
      "text/plain": [
       "<graphviz.files.Source at 0x121e0d4d0>"
      ]
     },
     "metadata": {},
     "output_type": "display_data"
    }
   ],
   "source": [
    "import graphviz\n",
    "\n",
    "with open('./dot_files/decision_tree.dot', encoding='utf-8') as f:\n",
    "    dot_graph = f.read()\n",
    "display(graphviz.Source(dot_graph))"
   ]
  },
  {
   "cell_type": "code",
   "execution_count": 11,
   "metadata": {},
   "outputs": [],
   "source": [
    "# samples < 각 노드에 있는 샘플의 수를 나타냄\n",
    "# value < 클래스당 샘플의 수"
   ]
  },
  {
   "cell_type": "markdown",
   "metadata": {},
   "source": [
    "## 트리의 특성 중요도 살펴보기"
   ]
  },
  {
   "cell_type": "code",
   "execution_count": 12,
   "metadata": {},
   "outputs": [
    {
     "name": "stdout",
     "output_type": "stream",
     "text": [
      "특성 중요도 : \n",
      " [0.         0.         0.         0.         0.         0.\n",
      " 0.         0.         0.         0.         0.01019737 0.04839825\n",
      " 0.         0.         0.0024156  0.         0.         0.\n",
      " 0.         0.         0.72682851 0.0458159  0.         0.\n",
      " 0.0141577  0.         0.018188   0.1221132  0.01188548 0.        ]\n"
     ]
    },
    {
     "data": {
      "image/png": "[encoded data removed]",
      "text/plain": [
       "<Figure size 432x288 with 1 Axes>"
      ]
     },
     "metadata": {
      "needs_background": "light"
     },
     "output_type": "display_data"
    }
   ],
   "source": [
    "# 전체 트리를 한번에 보기 어려울 수 있음\n",
    "# 어떻게 작동하는지 요약하는 속성을 사용할 수 있음\n",
    "    # 트리를 만드는 결정에 각 특성이 얼마나 중요한지 평가하는 특성중요도(feature Importance)를 널리 사용함\n",
    "    # 0 - 1 사이의 수로, 0에 가까울 수록 사용 빈도가 낮고, 1에 가까울 수록 높은 사용 빈도를 가짐\n",
    "    # 각 특성마다 값을 가지며, 각 특성의 값을 전부 합치면 1이됨\n",
    "print('특성 중요도 : \\n', tree_depth_pruning.feature_importances_)\n",
    "# 선형 모델의 계수를 시각화 하는것과 비슷하게, 특성 중요도도 시각화 할 수 있음\n",
    "\n",
    "def plot_feature_importances_cancer(model):\n",
    "    n_features = cancer.data.shape[1] # cancer.data.shape : 569, 30 각 특성의 갯수를 구하기 위해 .shape[1]\n",
    "    plt.barh(np.arange(n_features), model.feature_importances_, align='center')\n",
    "    # x 데이터가 카테고리 값인 경우에는 bar 명령과 barh 명령으로 바 차트(bar chart) 시각화를 할 수 있음.\n",
    "    # 가로 방향으로 바 차트를 그리려면 barh 명령을 사용, np.arange(n) 0~ n-1 까지 정수(실수가능)순서대로 값... 0,1,2,3 ~ n-1\n",
    "    plt.yticks(np.arange(n_features), cancer.feature_names)\n",
    "    plt.xlabel('특성 중요도')\n",
    "    plt.ylabel('특성')\n",
    "    plt.ylim(-1, n_features)\n",
    "plot_feature_importances_cancer(tree_depth_pruning)"
   ]
  },
  {
   "cell_type": "code",
   "execution_count": 13,
   "metadata": {},
   "outputs": [],
   "source": [
    "# 첫번째 노드에서 사용한 특성 'worst radius'이 가장 중요한 특성으로 나타나짐\n",
    "    # == 첫번쨰 노드에서 두 클래스(양성/음성)를 꽤 잘 나누고 있다는것을 반증함\n",
    "    # 그러나 어떤 특성의 feature_importance_ 값이 낮다고 해서 이 특성이 쓸모 없다고 할 수는 없음\n",
    "    # 단지, 트리가 그 특성을 선택하지 않았을 뿐이며, 다른 특성이 동일한 정보를 지니고 있어서 일 수도 있음\n",
    "# 선형 모델의 계수와 달리, 중요도는 항상 양수의 값을 가지며, 특성이 어떤 클래스를 지지하는지는 알 수 없음\n",
    "    # 사실 특성과 클래스 사이에는 간단하지 않은 관계가 있을 수 있음\n",
    "    # 값을 가지고 트리 형태로 나누지만, 그 내포된 의미는 그만큼 단순하지 않을 수 있다는 의미"
   ]
  },
  {
   "cell_type": "code",
   "execution_count": 14,
   "metadata": {},
   "outputs": [],
   "source": [
    "# DecisionTreeRegression 또한 사용법과 분석법이 DecisionTreeClassifier와 비슷하지만\n",
    "# 트리 회귀 모델들은 와삽(extrapolation), 즉 훈련 데이터의 범위 밖의 포인트에 대해서 예측 할수 없는 문제가 있음"
   ]
  },
  {
   "cell_type": "markdown",
   "metadata": {},
   "source": [
    "## 외삽 대응 불가 (DecisionTreeRegression)"
   ]
  },
  {
   "cell_type": "code",
   "execution_count": 15,
   "metadata": {},
   "outputs": [
    {
     "data": {
      "text/plain": [
       "Text(0, 0.5, 'price ($/byte)')"
      ]
     },
     "execution_count": 15,
     "metadata": {},
     "output_type": "execute_result"
    },
    {
     "data": {
      "image/png": "[encoded data removed]",
      "text/plain": [
       "<Figure size 432x288 with 1 Axes>"
      ]
     },
     "metadata": {
      "needs_background": "light"
     },
     "output_type": "display_data"
    }
   ],
   "source": [
    "import os\n",
    "ram_prices = pd.read_csv(os.path.join(mglearn.datasets.DATA_PATH, 'ram_price.csv'))\n",
    "\n",
    "plt.yticks(fontname = 'Arial')\n",
    "plt.semilogy(ram_prices.date, ram_prices.price)\n",
    "# y축 로그 스케일로 그림(그래프를 로그 스케일로 그리면 약간의 굴곡을 제외하고는 선형적으로 나타나짐)\n",
    "plt.xlabel('years')\n",
    "plt.ylabel('price ($/byte)',rotation =0)"
   ]
  },
  {
   "cell_type": "code",
   "execution_count": 16,
   "metadata": {},
   "outputs": [],
   "source": [
    "# 2000년 전까지의 데이터만을 사용해서 그 이후 데이터를 예측하는 모델을 만들어보자\n",
    "# LinearRegression, DecisionTreeRegression 비교\n",
    "    # 가격을 로그 스케일로 바꾸었기 떄문에, 비교적 선형적 데이터 가짐\n",
    "    # LinearRegression의 경우 큰 차이 발생(4장에서 다룸) -> 훈련 시키고 예측 수행후 다시 로그스케일 되돌리기 위해 지수(ext)함수 적용\n",
    "from sklearn.tree import DecisionTreeRegressor\n",
    "from sklearn.linear_model import LinearRegression\n",
    "data_train = ram_prices[ram_prices.date<2000]\n",
    "data_test = ram_prices[ram_prices.date>=2000]\n",
    "# 훈련, 테스트 날짜기준 분리\n",
    "\n",
    "X_train = data_train.date[:, np.newaxis]\n",
    "# 가격 예측 위해서 날짜 특성만 이용\n",
    "y_train = np.log(data_train.price)\n",
    "# 데이터와 타깃 사이의 관계를 좀 더 간단하게 하기 위해 로그 스케일로 바꿈\n",
    "\n",
    "tree_reg = DecisionTreeRegressor().fit(X_train, y_train)\n",
    "linear_reg = LinearRegression().fit(X_train, y_train)\n",
    "\n",
    "X_all = ram_prices.date[:, np.newaxis]\n",
    "# 전체 기간에 대해서 예측 수행\n",
    "\n",
    "pred_tree = tree_reg.predict(X_all)\n",
    "pred_lr = linear_reg.predict(X_all)\n",
    "# 예측\n",
    "price_tree = np.exp(pred_tree)\n",
    "price_lr = np.exp(pred_lr)\n",
    "# 예측값 로그 스케일 -> 지수 함수 통해, 원래로 되돌림\n",
    "    # 지수 로그 역함수\n"
   ]
  },
  {
   "cell_type": "code",
   "execution_count": 17,
   "metadata": {},
   "outputs": [
    {
     "data": {
      "text/plain": [
       "<matplotlib.legend.Legend at 0x121f99450>"
      ]
     },
     "execution_count": 17,
     "metadata": {},
     "output_type": "execute_result"
    },
    {
     "name": "stderr",
     "output_type": "stream",
     "text": [
      "Font 'default' does not have a glyph for '-' [U+2212], substituting with a dummy symbol.\n",
      "Font 'default' does not have a glyph for '-' [U+2212], substituting with a dummy symbol.\n",
      "Font 'default' does not have a glyph for '-' [U+2212], substituting with a dummy symbol.\n",
      "Font 'default' does not have a glyph for '-' [U+2212], substituting with a dummy symbol.\n"
     ]
    },
    {
     "data": {
      "image/png": "[encoded data removed]",
      "text/plain": [
       "<Figure size 432x288 with 1 Axes>"
      ]
     },
     "metadata": {
      "needs_background": "light"
     },
     "output_type": "display_data"
    }
   ],
   "source": [
    "plt.semilogy(data_train.date, data_train.price, label = '훈련 데이터')\n",
    "plt.semilogy(data_test.date, data_test.price, label = '테스트 데이터')\n",
    "plt.semilogy(ram_prices.date, price_tree, label = '트리 예측')\n",
    "plt.semilogy(ram_prices.date, price_lr, label = '선형회귀 예측')\n",
    "plt.legend(loc='best')"
   ]
  },
  {
   "cell_type": "code",
   "execution_count": 18,
   "metadata": {},
   "outputs": [],
   "source": [
    "# 훈련 데이터에 대해서 트리와 거의 완전히 겹치는 것을 볼 수 있지만, 2000년 이후의 데이터에 대해선 트리는 올바르게 예측하지 못함"
   ]
  },
  {
   "cell_type": "markdown",
   "metadata": {},
   "source": [
    "# 정리"
   ]
  },
  {
   "cell_type": "code",
   "execution_count": 19,
   "metadata": {},
   "outputs": [],
   "source": [
    "# 모델의 복잡도를 조절하는 매개변수는 사전 가지치기 매개변수를 가지고 있음\n",
    "    # 가지치기의 비용함수(cost function)\n",
    "    # 의사결정나무는 이 비용함수를 최소로 하는 분기를 찾아내도록 학습\n",
    "\n",
    "    # CC(T)=Err(T)+α×L(T)\n",
    "\n",
    "    # CC(T)=의사결정나무의 비용 복잡도(=오류가 적으면서 terminal node 수가 적은 단순한 모델일 수록 작은 값)\n",
    "    # ERR(T)=검증데이터에 대한 오분류율\n",
    "    # L(T)=terminal node의 수(구조의 복잡도)\n",
    "\n",
    "    # Alpha=ERR(T)와 L(T)를 결합하는 가중치(사용자에 의해 부여됨, 보통 0.01~0.1의 값을 씀)\n",
    "    \n",
    "    # max_depth, max_leaf_nodes, min_samples_leaf 를 사용 할 수도 있음 (과적합 방지)\n",
    "# 장점\n",
    "# 시각화가 쉬움, 비전문가도 이해가 쉬움(비교적 작은 트리일 때)\n",
    "# 데이터의 스케일에 구애 받지 않음\n",
    "# 각 특성이 개별적으로 처리되어 데이터를 분할하는데, 데이터 스케일의 영향을 받지 않으므로, 결정 트리에서는 특성의 정규화나 표준화에 대한 전처리가 필요 없음\n",
    "# 특성 간의 스케일이 다르거나, 이진 특성과 연속적 특성이 혼합되어 있어도 잘 작동함\n",
    "\n",
    "# 단점\n",
    "# 사전 가지치기를 사용하여도 과적합이 되는 경향이 있음, 일반화 성능 낮음\n",
    "    # 극복하기 위해 앙상블 기법을 대안으로 사용"
   ]
  },
  {
   "cell_type": "code",
   "execution_count": 20,
   "metadata": {},
   "outputs": [],
   "source": [
    "# 의사결정나무는 계산복잡성 대비 높은 예측 성능을 낼 수 있음, 또한 변수 단위로 설명력을 지닌다는 강점을 가짐\n",
    "# 다만 의사결정나무는 결정경계(decision boundary)가 데이터 축에 수직이어서 특정 데이터에만 잘 작동할 가능성이 높음, 과적합 가능성 높고, 일반화 어려울 수도 있음\n",
    "# 의사결정나무_회귀는 외삽(extrapolation)에 대한 예측은 할 수 없음\n",
    "# 이같은 문제를 극복하기 위해 등장한 모델이 바로 랜덤포레스트, 같은 데이터에 대해 의사결정나무를 여러 개 만들어 그 결과를 종합해 예측 성능을 높이는 기법입니다."
   ]
  },
  {
   "cell_type": "code",
   "execution_count": null,
   "metadata": {},
   "outputs": [],
   "source": []
  },
  {
   "cell_type": "code",
   "execution_count": null,
   "metadata": {},
   "outputs": [],
   "source": []
  }
 ],
 "metadata": {
  "kernelspec": {
   "display_name": "Python 3",
   "language": "python",
   "name": "python3"
  },
  "language_info": {
   "codemirror_mode": {
    "name": "ipython",
    "version": 3
   },
   "file_extension": ".py",
   "mimetype": "text/x-python",
   "name": "python",
   "nbconvert_exporter": "python",
   "pygments_lexer": "ipython3",
   "version": "3.7.6"
  }
 },
 "nbformat": 4,
 "nbformat_minor": 4
}
