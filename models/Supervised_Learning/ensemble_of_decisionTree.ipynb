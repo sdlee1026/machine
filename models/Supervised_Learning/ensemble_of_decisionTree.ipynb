{
 "cells": [
  {
   "cell_type": "markdown",
   "metadata": {},
   "source": [
    "# 결정 트리의 앙상블"
   ]
  },
  {
   "cell_type": "code",
   "execution_count": 1,
   "metadata": {},
   "outputs": [],
   "source": [
    "## 결정트리의 과적합 문제를 극복하고자 앙상블 기법 사용\n",
    "# ensemble, 여러 머신러닝 모댈을 연결하여 더 강력한 모델을 만드는 기법\n",
    "# 회귀 문제 해결을 위한 대표적 두가지 머신러닝 모델\n",
    "    # 랜덤 포레스트(random forest), 그래디언트 부스팅(gradinet boosting) 결정트리\n",
    "    # 모델을 구성하는 기본 요소가 결정트리"
   ]
  },
  {
   "cell_type": "markdown",
   "metadata": {},
   "source": [
    "## 랜덤 포레스트"
   ]
  },
  {
   "cell_type": "code",
   "execution_count": 2,
   "metadata": {},
   "outputs": [],
   "source": [
    "# 결정트리의 주요 단점, 훈련 데이터에 과대적합 되는 경향이 있음\n",
    "# 기본적으로, 조금씩 다른 여러 결정 트리의 묶음\n",
    "    # 각 트리는 비교적 예측이 용이하나, 데이터의 일부에 과적합 하는 경향을 가지는데 기초함\n",
    "    # 예컨대, 잘 작동하되 서로 다른 방향으로 과적합된 트리를 많이 만들면, 그 결과를 평균냄으로서 과적합된 양을 줄일 수 있다는 아이디어\n",
    "# 이 전략을 구현하려면 결정 트리를 많이 만들어야하며, 각 트리는 타깃 예측을 잘 해야하며, 다른 트리와는 구별되어야 의미가 생김\n",
    "# 이름처럼 랜덤 포레스트는 트리들이 달라지도록, 생성 시 무작위성을 주입함\n",
    "    # 1. 트리를 만들 때 데이터 포인트르를 무작위로 선택하게끔 하거나\n",
    "    # 2. 분할 테스트에서 특성을 무작위로 선택하게끔 함"
   ]
  },
  {
   "cell_type": "code",
   "execution_count": null,
   "metadata": {},
   "outputs": [],
   "source": []
  }
 ],
 "metadata": {
  "kernelspec": {
   "display_name": "Python 3",
   "language": "python",
   "name": "python3"
  },
  "language_info": {
   "codemirror_mode": {
    "name": "ipython",
    "version": 3
   },
   "file_extension": ".py",
   "mimetype": "text/x-python",
   "name": "python",
   "nbconvert_exporter": "python",
   "pygments_lexer": "ipython3",
   "version": "3.7.6"
  }
 },
 "nbformat": 4,
 "nbformat_minor": 4
}
