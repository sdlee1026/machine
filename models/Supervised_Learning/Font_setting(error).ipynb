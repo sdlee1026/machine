{
 "cells": [
  {
   "cell_type": "code",
   "execution_count": 4,
   "metadata": {},
   "outputs": [
    {
     "name": "stdout",
     "output_type": "stream",
     "text": [
      "font size : 10.0\n",
      "font family : ['NanumGothic']\n"
     ]
    }
   ],
   "source": [
    "import matplotlib\n",
    "import matplotlib.font_manager as fm\n",
    "\n",
    "matplotlib.use('Agg')\n",
    "#matplotlib.rc('font', family=\"D2Coding\")\n",
    "\n",
    "font_location = './Fonts/NanumGothic.ttf'\n",
    "font_name = fm.FontProperties(fname = font_location).get_name()\n",
    "matplotlib.rc('font', family = font_name)\n",
    "\n",
    "print ('font size : '+str(matplotlib.rcParams['font.size']) )\n",
    "print ('font family : '+str(matplotlib.rcParams['font.family']) )"
   ]
  },
  {
   "cell_type": "code",
   "execution_count": null,
   "metadata": {},
   "outputs": [],
   "source": [
    "# https://github.com/carpedm20/multi-speaker-tacotron-tensorflow/issues/13\n",
    "# Users\\사용자이름.matplotlib 안의 폴더&파일을 지움..\n",
    "# .matplotlib안에 fontList.json라는 파일, 캐시"
   ]
  }
 ],
 "metadata": {
  "kernelspec": {
   "display_name": "Python 3",
   "language": "python",
   "name": "python3"
  },
  "language_info": {
   "codemirror_mode": {
    "name": "ipython",
    "version": 3
   },
   "file_extension": ".py",
   "mimetype": "text/x-python",
   "name": "python",
   "nbconvert_exporter": "python",
   "pygments_lexer": "ipython3",
   "version": "3.7.6"
  }
 },
 "nbformat": 4,
 "nbformat_minor": 4
}
