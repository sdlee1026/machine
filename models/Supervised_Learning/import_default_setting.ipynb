{
 "cells": [
  {
   "cell_type": "code",
   "execution_count": 1,
   "metadata": {},
   "outputs": [
    {
     "name": "stdout",
     "output_type": "stream",
     "text": [
      "font size : 10.0\n",
      "font family : ['NanumGothic']\n",
      "python version : 3.7.6 (v3.7.6:43364a7ae0, Dec 18 2019, 14:18:50) \n",
      "[Clang 6.0 (clang-600.0.57)]\n",
      "pandas version : 0.25.3\n",
      "matplotlib version : 3.1.2\n",
      "numpy version : 1.18.1\n",
      "\n"
     ]
    }
   ],
   "source": [
    "import sys\n",
    "import warnings\n",
    "warnings.filterwarnings(action='ignore')\n",
    "import collections\n",
    "from IPython.display import display\n",
    "from IPython.display import Image\n",
    "import numpy as np\n",
    "import matplotlib.pyplot as plt\n",
    "import matplotlib as mpl\n",
    "from matplotlib import font_manager, rc\n",
    "import pandas as pd\n",
    "import mglearn\n",
    "from sklearn.model_selection import train_test_split\n",
    "\n",
    "mpl.rcParams['axes.unicode_minus'] = False\n",
    "font_fname = 'fonts/NanumGothic.ttf'\n",
    "font_name = font_manager.FontProperties(fname=font_fname).get_name()\n",
    "\n",
    "rc('font', family=font_name)\n",
    "# size, family\n",
    "print ('font size : '+str(plt.rcParams['font.size']) )\n",
    "print ('font family : '+str(plt.rcParams['font.family']) )\n",
    "# import default setting\n",
    "print('python version : {0}\\npandas version : {1}\\nmatplotlib version : {2}\\nnumpy version : {3}\\n'\n",
    ".format(sys.version, pd.__version__, mpl.__version__, np.__version__))"
   ]
  },
  {
   "cell_type": "code",
   "execution_count": null,
   "metadata": {},
   "outputs": [],
   "source": []
  }
 ],
 "metadata": {
  "kernelspec": {
   "display_name": "Python 3",
   "language": "python",
   "name": "python3"
  },
  "language_info": {
   "codemirror_mode": {
    "name": "ipython",
    "version": 3
   },
   "file_extension": ".py",
   "mimetype": "text/x-python",
   "name": "python",
   "nbconvert_exporter": "python",
   "pygments_lexer": "ipython3",
   "version": "3.7.6"
  }
 },
 "nbformat": 4,
 "nbformat_minor": 4
}
