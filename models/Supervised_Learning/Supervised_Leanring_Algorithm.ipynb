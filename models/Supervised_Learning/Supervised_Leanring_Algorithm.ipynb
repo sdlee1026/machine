{
 "cells": [
  {
   "cell_type": "raw",
   "metadata": {},
   "source": [
    "여러 모델들에서 모델의 복잡도가 어떤 역할을 하는지 이야기하고 각 알고리즘들이 모델을 어떻게 만드는지 학습해보겠음\n",
    "또한, 모델들의 장단점을 파악하고, 모델별로 어떤 데이터가 잘 들어맞을지 살펴 볼 것임\n",
    "분류와 회귀 모델을 모두 가지고 있는 알고리즘도 많은데 이런 경우 둘다 살펴 볼 것임"
   ]
  },
  {
   "cell_type": "code",
   "execution_count": 2,
   "metadata": {},
   "outputs": [
    {
     "name": "stdout",
     "output_type": "stream",
     "text": [
      "font size : 10.0\n",
      "font family : ['NanumGothic']\n"
     ]
    }
   ],
   "source": [
    "from IPython.display import display\n",
    "import numpy as np\n",
    "import matplotlib.pyplot as plt\n",
    "import matplotlib as mpl\n",
    "from matplotlib import font_manager, rc\n",
    "import pandas as pd\n",
    "import mglearn\n",
    "\n",
    "mpl.rcParams['axes.unicode_minus'] = False\n",
    "font_fname = 'fonts/NanumGothic.ttf'\n",
    "font_name = font_manager.FontProperties(fname=font_fname).get_name()\n",
    "\n",
    "rc('font', family=font_name)\n",
    "# size, family\n",
    "print ('font size : '+str(plt.rcParams['font.size']) ) \n",
    "print ('font family : '+str(plt.rcParams['font.family']) )\n",
    "# import default setting "
   ]
  },
  {
   "cell_type": "markdown",
   "metadata": {},
   "source": [
    "# 이진분류(classification)_forge dataset_시각화"
   ]
  },
  {
   "cell_type": "raw",
   "metadata": {},
   "source": [
    "forge 데이터셋은 인위적으로 만든 이진 분류 데이터셋임"
   ]
  },
  {
   "cell_type": "code",
   "execution_count": 4,
   "metadata": {
    "scrolled": true
   },
   "outputs": [
    {
     "name": "stdout",
     "output_type": "stream",
     "text": [
      "X.shape (26, 2)\n"
     ]
    },
    {
     "data": {
      "image/png": "[encoded data removed]",
      "text/plain": [
       "<Figure size 432x288 with 1 Axes>"
      ]
     },
     "metadata": {
      "needs_background": "light"
     },
     "output_type": "display_data"
    }
   ],
   "source": [
    "# dataset setting\n",
    "X, y = mglearn.datasets.make_forge()\n",
    "# 산점도를 그림 discrete_scatter 2차원 산점도 그래프를 위한..\n",
    "mglearn.discrete_scatter(X[:,0], X[:,1], y)\n",
    "plt.legend(['클래스 0', '클래스1'], loc =4)\n",
    "plt.xlabel('첫번째 특성')\n",
    "plt.ylabel('두번째 특성')\n",
    "print('X.shape',X.shape)\n",
    "# dataset은 데이터26개(포인터)와 2개의 특성을 가짐"
   ]
  },
  {
   "cell_type": "markdown",
   "metadata": {},
   "source": [
    "# 회귀(regression)_wave dataset_시각화"
   ]
  },
  {
   "cell_type": "raw",
   "metadata": {},
   "source": [
    "wave dataset : 입력특성 한 종류와 모델링을 위한 타깃변수(출력)을 가짐\n",
    "x축 : 입력 특성\n",
    "y축 : 회귀(regression)의 출력(타깃변수)"
   ]
  },
  {
   "cell_type": "code",
   "execution_count": 6,
   "metadata": {},
   "outputs": [
    {
     "data": {
      "text/plain": [
       "Text(0, 0.5, '타깃')"
      ]
     },
     "execution_count": 6,
     "metadata": {},
     "output_type": "execute_result"
    },
    {
     "data": {
      "image/png": "[encoded data removed]",
      "text/plain": [
       "<Figure size 432x288 with 1 Axes>"
      ]
     },
     "metadata": {
      "needs_background": "light"
     },
     "output_type": "display_data"
    }
   ],
   "source": [
    "X, y = mglearn.datasets.make_wave(n_samples=40)\n",
    "# n_sample : 입력 특성의 갯수\n",
    "plt.plot(X,y,'o')\n",
    "plt.ylim(-2.8,2.5)\n",
    "# y축 범위 세팅 \n",
    "plt.xlabel('특성')\n",
    "plt.ylabel('타깃')"
   ]
  }
 ],
 "metadata": {
  "kernelspec": {
   "display_name": "Python 3",
   "language": "python",
   "name": "python3"
  },
  "language_info": {
   "codemirror_mode": {
    "name": "ipython",
    "version": 3
   },
   "file_extension": ".py",
   "mimetype": "text/x-python",
   "name": "python",
   "nbconvert_exporter": "python",
   "pygments_lexer": "ipython3",
   "version": "3.7.6"
  }
 },
 "nbformat": 4,
 "nbformat_minor": 2
}
