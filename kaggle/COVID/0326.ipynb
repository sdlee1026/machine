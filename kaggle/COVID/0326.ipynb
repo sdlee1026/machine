{
 "cells": [
  {
   "cell_type": "markdown",
   "metadata": {},
   "source": [
    "# Introduce Doc\n",
    "---------------"
   ]
  },
  {
   "cell_type": "markdown",
   "metadata": {},
   "source": [
    "## Description\n",
    "--------"
   ]
  },
  {
   "cell_type": "markdown",
   "metadata": {},
   "source": [
    "*This is week 2 of Kaggle's COVID19 forecasting series, following the Week 1 competition.*\n",
    "\n",
    "*This is the 2nd of at least 4 competitions we plan to launch in this series.*\n",
    "\n",
    "이것은 1주차 컴페티션에 따른 케글의 COVID19 예측 2주차 시리즈 입니다. 이번 시리즈는 최소 4개 대회 중 두 번째 컴페티션입니다."
   ]
  },
  {
   "cell_type": "markdown",
   "metadata": {},
   "source": [
    "### Background\n",
    "---------------\n",
    "* The White House Office of Science and Technology Policy (OSTP) pulled together a coalition research groups and companies (including Kaggle) to prepare the COVID-19 Open Research Dataset (CORD-19) to attempt to address key open scientific questions on COVID-19. \n",
    "\n",
    "* Those questions are drawn from National Academies of Sciences, Engineering, and Medicine’s (NASEM) and the World Health Organization (WHO)."
   ]
  },
  {
   "cell_type": "markdown",
   "metadata": {},
   "source": [
    "\n",
    "* 백악관 과학기술정책실(OSTP)은 연합연구그룹과 기업을 모아서 COVID-19에 대한 핵심 공개과학 질문들을 다루기 위한 COVID-19 오픈리서치 데이터셋(CORD-19)을 준비했습니다. \n",
    "\n",
    "* 공개과학에 대한 이 질문들은 국립과학원, 공학, 의학원과 세계보건기구(WHO)에서 도출되었습니다."
   ]
  },
  {
   "cell_type": "markdown",
   "metadata": {},
   "source": [
    "\n",
    "### The Challenge\n",
    "---------------\n",
    "* Kaggle is launching a companion COVID-19 forecasting challenges to help answer a subset of the NASEM/WHO questions. While the challenge involves forecasting confirmed cases and fatalities between April 1 and April 30 by region, the primary goal isn't only to produce accurate forecasts. It’s also to identify factors that appear to impact the transmission rate of COVID-19.\n",
    "\n",
    "* You are encouraged to pull in, curate and share data sources that might be helpful. If you find variables that look like they impact the transmission rate, please share your finding in a notebook.\n",
    "\n",
    "* As the data becomes available, we will update the leaderboard with live results based on data made available from the Johns Hopkins University Center for Systems Science and Engineering (JHU CSSE).\n",
    "\n",
    "* We have received support and guidance from health and policy organizations in launching these challenges. We're hopeful the Kaggle community can make valuable contributions to developing a better understanding of factors that impact the transmission of COVID-19."
   ]
  },
  {
   "cell_type": "markdown",
   "metadata": {},
   "source": [
    "* Kaggle은 \n",
    "[NASEM/WHO 질문][link1]에 대한 답변을 돕기 위해 COVID-19 예측 과제를 함께 시작하고 있습니다. \n",
    "    * 지역별로 4월 1일부터 4월 30일 사이에 확진된 사례와 사망자를 예측하는 것이 과제지만, 주요 목표는 정확한 예측만을 하는 것이 아닙니다. \n",
    "    * COVID-19의 전파 속도에 영향을 미치는 것으로 보이는 요인을 파악하기 위한 것이기도 합니다.\n",
    "[link1]: https://www.kaggle.com/c/covid19-global-forecasting-week-2/overview/open-scientific-questions \"NASEM/WHO Question\"\n",
    "* 도움이 될 수 있는 데이터 소스를 끌어 모으고, 정리하고, 공유하도록 권장됩니다. \n",
    "    * 질병 전파 속도에 영향을 미치는 것처럼 보이는 변수를 찾으면 검색 결과를 notebook으로 공유해주세요.\n",
    "\n",
    "* 데이터가 이용 가능하게 되면, 우리는 존스 홉킨스 대학 시스템 과학 및 엔지니어링 센터(JHU CSSE)에서 이용할 수 있는 데이터를 바탕으로, 리더보드를 실시간으로 업데이트할 것입니다.\n",
    "\n",
    "* 우리는 이러한 도전을 시작함에 있어 보건 및 정책 기관으로부터 지원과 지침을 받았습니다. \n",
    "    * 우리는 케글 커뮤니티가 COVID-19의 질병전파에 영향을 미치는 요인에 대한 더 나은 이해를 개발하는데 귀중한 기여를 할 수 있기를 희망합니다.\n"
   ]
  },
  {
   "cell_type": "markdown",
   "metadata": {},
   "source": [
    "### Companies and Organizations\n",
    "---------------\n",
    "* There is also a call to action for companies and other organizations: \n",
    "    * If you have datasets that might be useful, please upload them to Kaggle’s dataset platform and reference them in this forum thread. \n",
    "    * That will make them accessible to those participating in this challenge and a resource to the wider scientific community."
   ]
  },
  {
   "cell_type": "markdown",
   "metadata": {},
   "source": [
    "\n",
    "* 또한 기업 및 기타 조직은 다음과 같이 행동해주세요\n",
    "    * 유용할 수 있는 데이터 세트가 있는 경우, Kaggle의 데이터 세트 플랫폼에 업로드하고 이 포럼 스레드에서 이를 참조하십시오. \n",
    "    * 그 행동은 이 도전에 참여하는 사람들이 접근할 수 있게 하고 더 넓은 과학 커뮤니티에 대한 자원이 될 것입니다."
   ]
  },
  {
   "cell_type": "markdown",
   "metadata": {},
   "source": [
    "## Evaluation\n",
    "----------\n",
    "이 컴페티션은 어떤 평가방법을 기준할까요?\n"
   ]
  },
  {
   "cell_type": "markdown",
   "metadata": {},
   "source": [
    "### Public and Private Leaderboard\n",
    "----------\n",
    "* To have a public leaderboard for this forecasting task, we will be using data from 7 days before to 7 days after competition launch. \n",
    "\n",
    "* Only use data on or prior to 2020-03-11 for predictions on the public leaderboard period. \n",
    "* Use up to and including the most recent data for predictions on the private leaderboard period.\n",
    "\n",
    "    * Public Leaderboard Period - 2020-03-19 - 2020-04-01\n",
    "    * Private Leaderboard Period - 2020-04-02 - 2020-04-30\n"
   ]
  },
  {
   "cell_type": "markdown",
   "metadata": {},
   "source": [
    "### Evaluation\n",
    "-----------\n",
    "Submissions are evaluated using the column-wise **root mean squared logarithmic error.**\n",
    "\n",
    "The RMSLE for a single column calculated as\n",
    "\n",
    "https://www.kaggle.com/c/covid19-global-forecasting-week-2/overview/evaluation\n",
    "\n",
    "where:\n",
    "\n",
    "* n is the total number of observations\n",
    "* pi is your prediction\n",
    "* ai is the actual value\n",
    "* log(x) is the natural logarithm of x\n",
    "\n",
    "**The final score is the mean of the RMSLE over all columns (in this case, 2).**"
   ]
  },
  {
   "cell_type": "code",
   "execution_count": null,
   "metadata": {},
   "outputs": [],
   "source": []
  },
  {
   "cell_type": "code",
   "execution_count": null,
   "metadata": {},
   "outputs": [],
   "source": []
  }
 ],
 "metadata": {
  "kernelspec": {
   "display_name": "Python 3",
   "language": "python",
   "name": "python3"
  },
  "language_info": {
   "codemirror_mode": {
    "name": "ipython",
    "version": 3
   },
   "file_extension": ".py",
   "mimetype": "text/x-python",
   "name": "python",
   "nbconvert_exporter": "python",
   "pygments_lexer": "ipython3",
   "version": "3.7.6"
  }
 },
 "nbformat": 4,
 "nbformat_minor": 2
}
