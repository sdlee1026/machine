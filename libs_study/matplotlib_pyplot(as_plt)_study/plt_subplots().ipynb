{
 "cells": [
  {
   "cell_type": "code",
   "execution_count": 2,
   "metadata": {},
   "outputs": [],
   "source": [
    "import matplotlib.pyplot as plt"
   ]
  },
  {
   "cell_type": "code",
   "execution_count": 3,
   "metadata": {},
   "outputs": [
    {
     "name": "stdout",
     "output_type": "stream",
     "text": [
      "axes : [<matplotlib.axes._subplots.AxesSubplot object at 0x1088a1590>\n",
      " <matplotlib.axes._subplots.AxesSubplot object at 0x1165cf910>\n",
      " <matplotlib.axes._subplots.AxesSubplot object at 0x1165f8450>]\n",
      "\n",
      "\n",
      "\n",
      "아직 데이터로 채워지지 않은 그래프들\n"
     ]
    },
    {
     "data": {
      "image/png": "[encoded data removed]",
      "text/plain": [
       "<Figure size 720x216 with 3 Axes>"
      ]
     },
     "metadata": {
      "needs_background": "light"
     },
     "output_type": "display_data"
    }
   ],
   "source": [
    "fig, axes = plt.subplots(1,3, figsize = (10,3))\n",
    "# plt.subplots 을 이용 여러개의 시각화 그래프 생성,tpye : <class 'matplotlib.figure.Figure'>\n",
    "# 매개변수\n",
    "# first num : 세로축 그래프 갯수\n",
    "# seconds num : 가로축 그래프 갯수\n",
    "# fig_size : 그래프의 전체 사이즈(가로, 세로)\n",
    "print('axes : '+ str(axes))\n",
    "# plt.subplots 는 두개의 객체를 리턴 받는데, 첫번째는 시각화되는 그래프들의 틀에 대한 fig\n",
    "# 두번째는 그 그래프들에 들어갈 데이터 타입을 저장할 axes(ax들..,tpye : array)를 리턴 받게 된다\n",
    "print('\\n\\n\\n아직 데이터로 채워지지 않은 그래프들')"
   ]
  },
  {
   "cell_type": "code",
   "execution_count": null,
   "metadata": {},
   "outputs": [],
   "source": []
  }
 ],
 "metadata": {
  "kernelspec": {
   "display_name": "Python 3",
   "language": "python",
   "name": "python3"
  },
  "language_info": {
   "codemirror_mode": {
    "name": "ipython",
    "version": 3
   },
   "file_extension": ".py",
   "mimetype": "text/x-python",
   "name": "python",
   "nbconvert_exporter": "python",
   "pygments_lexer": "ipython3",
   "version": "3.7.6"
  }
 },
 "nbformat": 4,
 "nbformat_minor": 4
}
